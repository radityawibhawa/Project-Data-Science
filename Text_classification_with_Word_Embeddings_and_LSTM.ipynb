{
  "nbformat": 4,
  "nbformat_minor": 0,
  "metadata": {
    "colab": {
      "provenance": [],
      "collapsed_sections": []
    },
    "kernelspec": {
      "name": "python3",
      "display_name": "Python 3"
    },
    "language_info": {
      "name": "python"
    }
  },
  "cells": [
    {
      "cell_type": "code",
      "execution_count": 35,
      "metadata": {
        "id": "Teg456C-_KRZ"
      },
      "outputs": [],
      "source": [
        "import pandas as pd\n",
        "import numpy as np\n",
        "import torch\n",
        "from torch import nn"
      ]
    },
    {
      "cell_type": "code",
      "source": [
        "from nltk.tokenize import word_tokenize\n",
        "import pandas as pd\n",
        "import string\n",
        "import nltk\n",
        "nltk.download('stopwords')\n",
        "nltk.download('punkt')\n",
        "import re\n",
        "from sklearn.svm import SVC\n",
        "from sklearn.model_selection import cross_val_score\n",
        "from sklearn.metrics import classification_report, make_scorer, accuracy_score\n",
        "from sklearn.model_selection import train_test_split"
      ],
      "metadata": {
        "colab": {
          "base_uri": "https://localhost:8080/"
        },
        "id": "qYPLsYUsD8JF",
        "outputId": "274be8a1-d616-41a2-f7fd-10918243aa26"
      },
      "execution_count": 7,
      "outputs": [
        {
          "output_type": "stream",
          "name": "stderr",
          "text": [
            "[nltk_data] Downloading package stopwords to /root/nltk_data...\n",
            "[nltk_data]   Unzipping corpora/stopwords.zip.\n",
            "[nltk_data] Downloading package punkt to /root/nltk_data...\n",
            "[nltk_data]   Unzipping tokenizers/punkt.zip.\n"
          ]
        }
      ]
    },
    {
      "cell_type": "code",
      "source": [
        "df = pd.read_csv(\"PERFORMANCE_FIX.csv\")"
      ],
      "metadata": {
        "id": "3h5h2xWIDBmV"
      },
      "execution_count": 122,
      "outputs": []
    },
    {
      "cell_type": "code",
      "source": [
        "def remove_punct(text):\n",
        "    text  = \"\".join([char for char in text if char not in string.punctuation])\n",
        "    text = re.sub('[0-9]+', '', text)\n",
        "    return text"
      ],
      "metadata": {
        "id": "_qG-buhlDWHN"
      },
      "execution_count": 123,
      "outputs": []
    },
    {
      "cell_type": "code",
      "source": [
        "def remove_non_ascii(s):\n",
        "    return \"\".join(c for c in s if ord(c)<128)"
      ],
      "metadata": {
        "id": "BQEhJHOPDWJV"
      },
      "execution_count": 124,
      "outputs": []
    },
    {
      "cell_type": "code",
      "source": [
        "def remove_emojis(data):\n",
        "    emoj = re.compile(\"[\"\n",
        "        u\"\\U0001F600-\\U0001F64F\"  # emoticons\n",
        "        u\"\\U0001F300-\\U0001F5FF\"  # symbols & pictographs\n",
        "        u\"\\U0001F680-\\U0001F6FF\"  # transport & map symbols\n",
        "        u\"\\U0001F1E0-\\U0001F1FF\"  # flags (iOS)\n",
        "        u\"\\U00002500-\\U00002BEF\"  # chinese char\n",
        "        u\"\\U00002702-\\U000027B0\"\n",
        "        u\"\\U00002702-\\U000027B0\"\n",
        "        u\"\\U000024C2-\\U0001F251\"\n",
        "        u\"\\U0001f926-\\U0001f937\"\n",
        "        u\"\\U00010000-\\U0010ffff\"\n",
        "        u\"\\u2640-\\u2642\" \n",
        "        u\"\\u2600-\\u2B55\"\n",
        "        u\"\\u200d\"\n",
        "        u\"\\u23cf\"\n",
        "        u\"\\u23e9\"\n",
        "        u\"\\u231a\"\n",
        "        u\"\\ufe0f\"  # dingbats\n",
        "        u\"\\u3030\"\n",
        "                      \"]+\", re.UNICODE)\n",
        "    return re.sub(emoj, '', data)"
      ],
      "metadata": {
        "id": "E4fHPnywDWLd"
      },
      "execution_count": 125,
      "outputs": []
    },
    {
      "cell_type": "code",
      "source": [
        "df['Text'] = df['Text'].astype(str)\n",
        "df['Text'] = df['Text'].str.lower()\n",
        "df['Text'] = df['Text'].apply(lambda x: remove_punct(x))\n",
        "df['Text'] = df['Text'].apply(lambda x: remove_non_ascii(x))\n",
        "df['Text'] = df['Text'].str.replace('â€™', '\\'')\n",
        "df['Text'] = df['Text'].apply(remove_emojis)"
      ],
      "metadata": {
        "id": "rOgEpVYTDWN1"
      },
      "execution_count": 126,
      "outputs": []
    },
    {
      "cell_type": "code",
      "source": [
        "def tokenization(text):\n",
        "  text = word_tokenize(text)\n",
        "  return text"
      ],
      "metadata": {
        "id": "P6YXYSffDWQE"
      },
      "execution_count": 127,
      "outputs": []
    },
    {
      "cell_type": "code",
      "source": [
        "stop_words = nltk.corpus.stopwords.words('english') \n",
        "def stopwords(text):\n",
        "  text = [word for word in text if word not in stop_words]\n",
        "  return text"
      ],
      "metadata": {
        "id": "DVDmCthmDdNE"
      },
      "execution_count": 128,
      "outputs": []
    },
    {
      "cell_type": "code",
      "source": [
        "df['Tokenized'] = df['Text'].apply(tokenization)\n",
        "df['Stopwords'] = df['Tokenized'].apply(stopwords)"
      ],
      "metadata": {
        "id": "Q_3yJXHjDdPU"
      },
      "execution_count": 129,
      "outputs": []
    },
    {
      "cell_type": "code",
      "source": [
        "def joined(text):\n",
        "  text = \" \".join(text)\n",
        "  return text"
      ],
      "metadata": {
        "id": "M8UByrZODdR2"
      },
      "execution_count": 130,
      "outputs": []
    },
    {
      "cell_type": "code",
      "source": [
        "df['Stopwords'] = df['Stopwords'].apply(lambda x: joined(x))"
      ],
      "metadata": {
        "id": "0ppXTgtrDdTs"
      },
      "execution_count": 131,
      "outputs": []
    },
    {
      "cell_type": "code",
      "source": [
        "!pip install spacy\n",
        "!python -m spacy download en_core_web_lg"
      ],
      "metadata": {
        "colab": {
          "base_uri": "https://localhost:8080/"
        },
        "id": "otD-EtByDdVt",
        "outputId": "964b3ff3-2b66-4372-f571-e3c1f2ca1d62"
      },
      "execution_count": 79,
      "outputs": [
        {
          "output_type": "stream",
          "name": "stdout",
          "text": [
            "Looking in indexes: https://pypi.org/simple, https://us-python.pkg.dev/colab-wheels/public/simple/\n",
            "Requirement already satisfied: spacy in /usr/local/lib/python3.7/dist-packages (3.4.1)\n",
            "Requirement already satisfied: typing-extensions<4.2.0,>=3.7.4 in /usr/local/lib/python3.7/dist-packages (from spacy) (4.1.1)\n",
            "Requirement already satisfied: srsly<3.0.0,>=2.4.3 in /usr/local/lib/python3.7/dist-packages (from spacy) (2.4.4)\n",
            "Requirement already satisfied: catalogue<2.1.0,>=2.0.6 in /usr/local/lib/python3.7/dist-packages (from spacy) (2.0.8)\n",
            "Requirement already satisfied: pathy>=0.3.5 in /usr/local/lib/python3.7/dist-packages (from spacy) (0.6.2)\n",
            "Requirement already satisfied: packaging>=20.0 in /usr/local/lib/python3.7/dist-packages (from spacy) (21.3)\n",
            "Requirement already satisfied: jinja2 in /usr/local/lib/python3.7/dist-packages (from spacy) (2.11.3)\n",
            "Requirement already satisfied: requests<3.0.0,>=2.13.0 in /usr/local/lib/python3.7/dist-packages (from spacy) (2.23.0)\n",
            "Requirement already satisfied: langcodes<4.0.0,>=3.2.0 in /usr/local/lib/python3.7/dist-packages (from spacy) (3.3.0)\n",
            "Requirement already satisfied: murmurhash<1.1.0,>=0.28.0 in /usr/local/lib/python3.7/dist-packages (from spacy) (1.0.8)\n",
            "Requirement already satisfied: wasabi<1.1.0,>=0.9.1 in /usr/local/lib/python3.7/dist-packages (from spacy) (0.10.1)\n",
            "Requirement already satisfied: pydantic!=1.8,!=1.8.1,<1.10.0,>=1.7.4 in /usr/local/lib/python3.7/dist-packages (from spacy) (1.9.2)\n",
            "Requirement already satisfied: tqdm<5.0.0,>=4.38.0 in /usr/local/lib/python3.7/dist-packages (from spacy) (4.64.1)\n",
            "Requirement already satisfied: setuptools in /usr/local/lib/python3.7/dist-packages (from spacy) (57.4.0)\n",
            "Requirement already satisfied: spacy-loggers<2.0.0,>=1.0.0 in /usr/local/lib/python3.7/dist-packages (from spacy) (1.0.3)\n",
            "Requirement already satisfied: spacy-legacy<3.1.0,>=3.0.9 in /usr/local/lib/python3.7/dist-packages (from spacy) (3.0.10)\n",
            "Requirement already satisfied: thinc<8.2.0,>=8.1.0 in /usr/local/lib/python3.7/dist-packages (from spacy) (8.1.3)\n",
            "Requirement already satisfied: typer<0.5.0,>=0.3.0 in /usr/local/lib/python3.7/dist-packages (from spacy) (0.4.2)\n",
            "Requirement already satisfied: preshed<3.1.0,>=3.0.2 in /usr/local/lib/python3.7/dist-packages (from spacy) (3.0.7)\n",
            "Requirement already satisfied: numpy>=1.15.0 in /usr/local/lib/python3.7/dist-packages (from spacy) (1.21.6)\n",
            "Requirement already satisfied: cymem<2.1.0,>=2.0.2 in /usr/local/lib/python3.7/dist-packages (from spacy) (2.0.6)\n",
            "Requirement already satisfied: zipp>=0.5 in /usr/local/lib/python3.7/dist-packages (from catalogue<2.1.0,>=2.0.6->spacy) (3.9.0)\n",
            "Requirement already satisfied: pyparsing!=3.0.5,>=2.0.2 in /usr/local/lib/python3.7/dist-packages (from packaging>=20.0->spacy) (3.0.9)\n",
            "Requirement already satisfied: smart-open<6.0.0,>=5.2.1 in /usr/local/lib/python3.7/dist-packages (from pathy>=0.3.5->spacy) (5.2.1)\n",
            "Requirement already satisfied: idna<3,>=2.5 in /usr/local/lib/python3.7/dist-packages (from requests<3.0.0,>=2.13.0->spacy) (2.10)\n",
            "Requirement already satisfied: certifi>=2017.4.17 in /usr/local/lib/python3.7/dist-packages (from requests<3.0.0,>=2.13.0->spacy) (2022.9.24)\n",
            "Requirement already satisfied: urllib3!=1.25.0,!=1.25.1,<1.26,>=1.21.1 in /usr/local/lib/python3.7/dist-packages (from requests<3.0.0,>=2.13.0->spacy) (1.24.3)\n",
            "Requirement already satisfied: chardet<4,>=3.0.2 in /usr/local/lib/python3.7/dist-packages (from requests<3.0.0,>=2.13.0->spacy) (3.0.4)\n",
            "Requirement already satisfied: confection<1.0.0,>=0.0.1 in /usr/local/lib/python3.7/dist-packages (from thinc<8.2.0,>=8.1.0->spacy) (0.0.3)\n",
            "Requirement already satisfied: blis<0.8.0,>=0.7.8 in /usr/local/lib/python3.7/dist-packages (from thinc<8.2.0,>=8.1.0->spacy) (0.7.8)\n",
            "Requirement already satisfied: click<9.0.0,>=7.1.1 in /usr/local/lib/python3.7/dist-packages (from typer<0.5.0,>=0.3.0->spacy) (7.1.2)\n",
            "Requirement already satisfied: MarkupSafe>=0.23 in /usr/local/lib/python3.7/dist-packages (from jinja2->spacy) (2.0.1)\n",
            "2022-10-14 17:09:49.897526: E tensorflow/stream_executor/cuda/cuda_driver.cc:271] failed call to cuInit: CUDA_ERROR_NO_DEVICE: no CUDA-capable device is detected\n",
            "Looking in indexes: https://pypi.org/simple, https://us-python.pkg.dev/colab-wheels/public/simple/\n",
            "Collecting en-core-web-lg==3.4.0\n",
            "  Downloading https://github.com/explosion/spacy-models/releases/download/en_core_web_lg-3.4.0/en_core_web_lg-3.4.0-py3-none-any.whl (587.7 MB)\n",
            "\u001b[K     |████████████████████████████████| 587.7 MB 7.9 kB/s \n",
            "\u001b[?25hRequirement already satisfied: spacy<3.5.0,>=3.4.0 in /usr/local/lib/python3.7/dist-packages (from en-core-web-lg==3.4.0) (3.4.1)\n",
            "Requirement already satisfied: preshed<3.1.0,>=3.0.2 in /usr/local/lib/python3.7/dist-packages (from spacy<3.5.0,>=3.4.0->en-core-web-lg==3.4.0) (3.0.7)\n",
            "Requirement already satisfied: murmurhash<1.1.0,>=0.28.0 in /usr/local/lib/python3.7/dist-packages (from spacy<3.5.0,>=3.4.0->en-core-web-lg==3.4.0) (1.0.8)\n",
            "Requirement already satisfied: langcodes<4.0.0,>=3.2.0 in /usr/local/lib/python3.7/dist-packages (from spacy<3.5.0,>=3.4.0->en-core-web-lg==3.4.0) (3.3.0)\n",
            "Requirement already satisfied: spacy-loggers<2.0.0,>=1.0.0 in /usr/local/lib/python3.7/dist-packages (from spacy<3.5.0,>=3.4.0->en-core-web-lg==3.4.0) (1.0.3)\n",
            "Requirement already satisfied: setuptools in /usr/local/lib/python3.7/dist-packages (from spacy<3.5.0,>=3.4.0->en-core-web-lg==3.4.0) (57.4.0)\n",
            "Requirement already satisfied: catalogue<2.1.0,>=2.0.6 in /usr/local/lib/python3.7/dist-packages (from spacy<3.5.0,>=3.4.0->en-core-web-lg==3.4.0) (2.0.8)\n",
            "Requirement already satisfied: jinja2 in /usr/local/lib/python3.7/dist-packages (from spacy<3.5.0,>=3.4.0->en-core-web-lg==3.4.0) (2.11.3)\n",
            "Requirement already satisfied: cymem<2.1.0,>=2.0.2 in /usr/local/lib/python3.7/dist-packages (from spacy<3.5.0,>=3.4.0->en-core-web-lg==3.4.0) (2.0.6)\n",
            "Requirement already satisfied: tqdm<5.0.0,>=4.38.0 in /usr/local/lib/python3.7/dist-packages (from spacy<3.5.0,>=3.4.0->en-core-web-lg==3.4.0) (4.64.1)\n",
            "Requirement already satisfied: typer<0.5.0,>=0.3.0 in /usr/local/lib/python3.7/dist-packages (from spacy<3.5.0,>=3.4.0->en-core-web-lg==3.4.0) (0.4.2)\n",
            "Requirement already satisfied: thinc<8.2.0,>=8.1.0 in /usr/local/lib/python3.7/dist-packages (from spacy<3.5.0,>=3.4.0->en-core-web-lg==3.4.0) (8.1.3)\n",
            "Requirement already satisfied: requests<3.0.0,>=2.13.0 in /usr/local/lib/python3.7/dist-packages (from spacy<3.5.0,>=3.4.0->en-core-web-lg==3.4.0) (2.23.0)\n",
            "Requirement already satisfied: wasabi<1.1.0,>=0.9.1 in /usr/local/lib/python3.7/dist-packages (from spacy<3.5.0,>=3.4.0->en-core-web-lg==3.4.0) (0.10.1)\n",
            "Requirement already satisfied: typing-extensions<4.2.0,>=3.7.4 in /usr/local/lib/python3.7/dist-packages (from spacy<3.5.0,>=3.4.0->en-core-web-lg==3.4.0) (4.1.1)\n",
            "Requirement already satisfied: pathy>=0.3.5 in /usr/local/lib/python3.7/dist-packages (from spacy<3.5.0,>=3.4.0->en-core-web-lg==3.4.0) (0.6.2)\n",
            "Requirement already satisfied: spacy-legacy<3.1.0,>=3.0.9 in /usr/local/lib/python3.7/dist-packages (from spacy<3.5.0,>=3.4.0->en-core-web-lg==3.4.0) (3.0.10)\n",
            "Requirement already satisfied: srsly<3.0.0,>=2.4.3 in /usr/local/lib/python3.7/dist-packages (from spacy<3.5.0,>=3.4.0->en-core-web-lg==3.4.0) (2.4.4)\n",
            "Requirement already satisfied: pydantic!=1.8,!=1.8.1,<1.10.0,>=1.7.4 in /usr/local/lib/python3.7/dist-packages (from spacy<3.5.0,>=3.4.0->en-core-web-lg==3.4.0) (1.9.2)\n",
            "Requirement already satisfied: packaging>=20.0 in /usr/local/lib/python3.7/dist-packages (from spacy<3.5.0,>=3.4.0->en-core-web-lg==3.4.0) (21.3)\n",
            "Requirement already satisfied: numpy>=1.15.0 in /usr/local/lib/python3.7/dist-packages (from spacy<3.5.0,>=3.4.0->en-core-web-lg==3.4.0) (1.21.6)\n",
            "Requirement already satisfied: zipp>=0.5 in /usr/local/lib/python3.7/dist-packages (from catalogue<2.1.0,>=2.0.6->spacy<3.5.0,>=3.4.0->en-core-web-lg==3.4.0) (3.9.0)\n",
            "Requirement already satisfied: pyparsing!=3.0.5,>=2.0.2 in /usr/local/lib/python3.7/dist-packages (from packaging>=20.0->spacy<3.5.0,>=3.4.0->en-core-web-lg==3.4.0) (3.0.9)\n",
            "Requirement already satisfied: smart-open<6.0.0,>=5.2.1 in /usr/local/lib/python3.7/dist-packages (from pathy>=0.3.5->spacy<3.5.0,>=3.4.0->en-core-web-lg==3.4.0) (5.2.1)\n",
            "Requirement already satisfied: certifi>=2017.4.17 in /usr/local/lib/python3.7/dist-packages (from requests<3.0.0,>=2.13.0->spacy<3.5.0,>=3.4.0->en-core-web-lg==3.4.0) (2022.9.24)\n",
            "Requirement already satisfied: chardet<4,>=3.0.2 in /usr/local/lib/python3.7/dist-packages (from requests<3.0.0,>=2.13.0->spacy<3.5.0,>=3.4.0->en-core-web-lg==3.4.0) (3.0.4)\n",
            "Requirement already satisfied: idna<3,>=2.5 in /usr/local/lib/python3.7/dist-packages (from requests<3.0.0,>=2.13.0->spacy<3.5.0,>=3.4.0->en-core-web-lg==3.4.0) (2.10)\n",
            "Requirement already satisfied: urllib3!=1.25.0,!=1.25.1,<1.26,>=1.21.1 in /usr/local/lib/python3.7/dist-packages (from requests<3.0.0,>=2.13.0->spacy<3.5.0,>=3.4.0->en-core-web-lg==3.4.0) (1.24.3)\n",
            "Requirement already satisfied: blis<0.8.0,>=0.7.8 in /usr/local/lib/python3.7/dist-packages (from thinc<8.2.0,>=8.1.0->spacy<3.5.0,>=3.4.0->en-core-web-lg==3.4.0) (0.7.8)\n",
            "Requirement already satisfied: confection<1.0.0,>=0.0.1 in /usr/local/lib/python3.7/dist-packages (from thinc<8.2.0,>=8.1.0->spacy<3.5.0,>=3.4.0->en-core-web-lg==3.4.0) (0.0.3)\n",
            "Requirement already satisfied: click<9.0.0,>=7.1.1 in /usr/local/lib/python3.7/dist-packages (from typer<0.5.0,>=0.3.0->spacy<3.5.0,>=3.4.0->en-core-web-lg==3.4.0) (7.1.2)\n",
            "Requirement already satisfied: MarkupSafe>=0.23 in /usr/local/lib/python3.7/dist-packages (from jinja2->spacy<3.5.0,>=3.4.0->en-core-web-lg==3.4.0) (2.0.1)\n",
            "\u001b[38;5;2m✔ Download and installation successful\u001b[0m\n",
            "You can now load the package via spacy.load('en_core_web_lg')\n"
          ]
        }
      ]
    },
    {
      "cell_type": "code",
      "source": [
        "import spacy"
      ],
      "metadata": {
        "id": "jGzYyl2CDo7M"
      },
      "execution_count": 132,
      "outputs": []
    },
    {
      "cell_type": "code",
      "source": [
        "import en_core_web_lg\n",
        "nlp = en_core_web_lg.load()"
      ],
      "metadata": {
        "id": "EOV12gbLDqGv"
      },
      "execution_count": 133,
      "outputs": []
    },
    {
      "cell_type": "code",
      "source": [
        "def get_vec(x):\n",
        "  doc = nlp(x)\n",
        "  vec = doc.vector\n",
        "  return vec"
      ],
      "metadata": {
        "id": "wdhqAMMpDrVW"
      },
      "execution_count": 134,
      "outputs": []
    },
    {
      "cell_type": "code",
      "source": [
        "df['Vectorizer'] = df['Stopwords'].apply(lambda x: get_vec(x))"
      ],
      "metadata": {
        "id": "1o7-X4JjDtO8"
      },
      "execution_count": 135,
      "outputs": []
    },
    {
      "cell_type": "code",
      "source": [
        "df['Sentiment'].value_counts()"
      ],
      "metadata": {
        "colab": {
          "base_uri": "https://localhost:8080/"
        },
        "id": "MSvpgqE4esID",
        "outputId": "f7bec161-f0af-4819-c001-6e7265c0171f"
      },
      "execution_count": 136,
      "outputs": [
        {
          "output_type": "execute_result",
          "data": {
            "text/plain": [
              "2    740\n",
              "0    729\n",
              "1    715\n",
              "Name: Sentiment, dtype: int64"
            ]
          },
          "metadata": {},
          "execution_count": 136
        }
      ]
    },
    {
      "cell_type": "code",
      "source": [
        "final = pd.DataFrame({'Vector':df['Vectorizer'], 'Sentiment':df['Sentiment']})\n",
        "final.head()"
      ],
      "metadata": {
        "colab": {
          "base_uri": "https://localhost:8080/",
          "height": 206
        },
        "id": "vwAn4E0aDu5V",
        "outputId": "80aff204-b7e5-437b-e33a-22cfb266f675"
      },
      "execution_count": 137,
      "outputs": [
        {
          "output_type": "execute_result",
          "data": {
            "text/plain": [
              "                                              Vector  Sentiment\n",
              "0  [-0.84328747, 1.194625, -2.562034, 0.5952651, ...          0\n",
              "1  [0.0, 0.0, 0.0, 0.0, 0.0, 0.0, 0.0, 0.0, 0.0, ...          2\n",
              "2  [-0.49973536, 0.56508344, -3.2303066, -0.62693...          1\n",
              "3  [-1.1556596, 0.2174886, -1.0837786, -0.7909443...          1\n",
              "4  [-0.2507867, -0.31328002, -1.7633333, -1.35640...          0"
            ],
            "text/html": [
              "\n",
              "  <div id=\"df-3b17f3d8-fe0b-46e9-94e7-ae4ff446c653\">\n",
              "    <div class=\"colab-df-container\">\n",
              "      <div>\n",
              "<style scoped>\n",
              "    .dataframe tbody tr th:only-of-type {\n",
              "        vertical-align: middle;\n",
              "    }\n",
              "\n",
              "    .dataframe tbody tr th {\n",
              "        vertical-align: top;\n",
              "    }\n",
              "\n",
              "    .dataframe thead th {\n",
              "        text-align: right;\n",
              "    }\n",
              "</style>\n",
              "<table border=\"1\" class=\"dataframe\">\n",
              "  <thead>\n",
              "    <tr style=\"text-align: right;\">\n",
              "      <th></th>\n",
              "      <th>Vector</th>\n",
              "      <th>Sentiment</th>\n",
              "    </tr>\n",
              "  </thead>\n",
              "  <tbody>\n",
              "    <tr>\n",
              "      <th>0</th>\n",
              "      <td>[-0.84328747, 1.194625, -2.562034, 0.5952651, ...</td>\n",
              "      <td>0</td>\n",
              "    </tr>\n",
              "    <tr>\n",
              "      <th>1</th>\n",
              "      <td>[0.0, 0.0, 0.0, 0.0, 0.0, 0.0, 0.0, 0.0, 0.0, ...</td>\n",
              "      <td>2</td>\n",
              "    </tr>\n",
              "    <tr>\n",
              "      <th>2</th>\n",
              "      <td>[-0.49973536, 0.56508344, -3.2303066, -0.62693...</td>\n",
              "      <td>1</td>\n",
              "    </tr>\n",
              "    <tr>\n",
              "      <th>3</th>\n",
              "      <td>[-1.1556596, 0.2174886, -1.0837786, -0.7909443...</td>\n",
              "      <td>1</td>\n",
              "    </tr>\n",
              "    <tr>\n",
              "      <th>4</th>\n",
              "      <td>[-0.2507867, -0.31328002, -1.7633333, -1.35640...</td>\n",
              "      <td>0</td>\n",
              "    </tr>\n",
              "  </tbody>\n",
              "</table>\n",
              "</div>\n",
              "      <button class=\"colab-df-convert\" onclick=\"convertToInteractive('df-3b17f3d8-fe0b-46e9-94e7-ae4ff446c653')\"\n",
              "              title=\"Convert this dataframe to an interactive table.\"\n",
              "              style=\"display:none;\">\n",
              "        \n",
              "  <svg xmlns=\"http://www.w3.org/2000/svg\" height=\"24px\"viewBox=\"0 0 24 24\"\n",
              "       width=\"24px\">\n",
              "    <path d=\"M0 0h24v24H0V0z\" fill=\"none\"/>\n",
              "    <path d=\"M18.56 5.44l.94 2.06.94-2.06 2.06-.94-2.06-.94-.94-2.06-.94 2.06-2.06.94zm-11 1L8.5 8.5l.94-2.06 2.06-.94-2.06-.94L8.5 2.5l-.94 2.06-2.06.94zm10 10l.94 2.06.94-2.06 2.06-.94-2.06-.94-.94-2.06-.94 2.06-2.06.94z\"/><path d=\"M17.41 7.96l-1.37-1.37c-.4-.4-.92-.59-1.43-.59-.52 0-1.04.2-1.43.59L10.3 9.45l-7.72 7.72c-.78.78-.78 2.05 0 2.83L4 21.41c.39.39.9.59 1.41.59.51 0 1.02-.2 1.41-.59l7.78-7.78 2.81-2.81c.8-.78.8-2.07 0-2.86zM5.41 20L4 18.59l7.72-7.72 1.47 1.35L5.41 20z\"/>\n",
              "  </svg>\n",
              "      </button>\n",
              "      \n",
              "  <style>\n",
              "    .colab-df-container {\n",
              "      display:flex;\n",
              "      flex-wrap:wrap;\n",
              "      gap: 12px;\n",
              "    }\n",
              "\n",
              "    .colab-df-convert {\n",
              "      background-color: #E8F0FE;\n",
              "      border: none;\n",
              "      border-radius: 50%;\n",
              "      cursor: pointer;\n",
              "      display: none;\n",
              "      fill: #1967D2;\n",
              "      height: 32px;\n",
              "      padding: 0 0 0 0;\n",
              "      width: 32px;\n",
              "    }\n",
              "\n",
              "    .colab-df-convert:hover {\n",
              "      background-color: #E2EBFA;\n",
              "      box-shadow: 0px 1px 2px rgba(60, 64, 67, 0.3), 0px 1px 3px 1px rgba(60, 64, 67, 0.15);\n",
              "      fill: #174EA6;\n",
              "    }\n",
              "\n",
              "    [theme=dark] .colab-df-convert {\n",
              "      background-color: #3B4455;\n",
              "      fill: #D2E3FC;\n",
              "    }\n",
              "\n",
              "    [theme=dark] .colab-df-convert:hover {\n",
              "      background-color: #434B5C;\n",
              "      box-shadow: 0px 1px 3px 1px rgba(0, 0, 0, 0.15);\n",
              "      filter: drop-shadow(0px 1px 2px rgba(0, 0, 0, 0.3));\n",
              "      fill: #FFFFFF;\n",
              "    }\n",
              "  </style>\n",
              "\n",
              "      <script>\n",
              "        const buttonEl =\n",
              "          document.querySelector('#df-3b17f3d8-fe0b-46e9-94e7-ae4ff446c653 button.colab-df-convert');\n",
              "        buttonEl.style.display =\n",
              "          google.colab.kernel.accessAllowed ? 'block' : 'none';\n",
              "\n",
              "        async function convertToInteractive(key) {\n",
              "          const element = document.querySelector('#df-3b17f3d8-fe0b-46e9-94e7-ae4ff446c653');\n",
              "          const dataTable =\n",
              "            await google.colab.kernel.invokeFunction('convertToInteractive',\n",
              "                                                     [key], {});\n",
              "          if (!dataTable) return;\n",
              "\n",
              "          const docLinkHtml = 'Like what you see? Visit the ' +\n",
              "            '<a target=\"_blank\" href=https://colab.research.google.com/notebooks/data_table.ipynb>data table notebook</a>'\n",
              "            + ' to learn more about interactive tables.';\n",
              "          element.innerHTML = '';\n",
              "          dataTable['output_type'] = 'display_data';\n",
              "          await google.colab.output.renderOutput(dataTable, element);\n",
              "          const docLink = document.createElement('div');\n",
              "          docLink.innerHTML = docLinkHtml;\n",
              "          element.appendChild(docLink);\n",
              "        }\n",
              "      </script>\n",
              "    </div>\n",
              "  </div>\n",
              "  "
            ]
          },
          "metadata": {},
          "execution_count": 137
        }
      ]
    },
    {
      "cell_type": "code",
      "source": [
        "X = final['Vector'].to_numpy()\n",
        "X = X.reshape(-1, 1)"
      ],
      "metadata": {
        "id": "TBR-0IU-Du7r"
      },
      "execution_count": 138,
      "outputs": []
    },
    {
      "cell_type": "code",
      "source": [
        "import numpy as np\n",
        "X = np.concatenate(np.concatenate(X, axis = 0), axis = 0).reshape(-1, 300)\n",
        "y = final['Sentiment'].to_numpy()"
      ],
      "metadata": {
        "id": "OohX3PTrDvRe"
      },
      "execution_count": 139,
      "outputs": []
    },
    {
      "cell_type": "code",
      "source": [
        "len(X), len(y)"
      ],
      "metadata": {
        "colab": {
          "base_uri": "https://localhost:8080/"
        },
        "id": "jgLwh94yFX-s",
        "outputId": "486f1ff3-8f86-47d1-e2d9-78bcd93f324d"
      },
      "execution_count": 140,
      "outputs": [
        {
          "output_type": "execute_result",
          "data": {
            "text/plain": [
              "(2184, 2184)"
            ]
          },
          "metadata": {},
          "execution_count": 140
        }
      ]
    },
    {
      "cell_type": "code",
      "source": [
        "X[0].shape, y[0].shape"
      ],
      "metadata": {
        "colab": {
          "base_uri": "https://localhost:8080/"
        },
        "id": "T1MoeHBdFcZ7",
        "outputId": "ae7dff81-619e-427c-c122-41fd261afb15"
      },
      "execution_count": 141,
      "outputs": [
        {
          "output_type": "execute_result",
          "data": {
            "text/plain": [
              "((300,), ())"
            ]
          },
          "metadata": {},
          "execution_count": 141
        }
      ]
    },
    {
      "cell_type": "code",
      "source": [
        "X = torch.from_numpy(X).type(torch.float)\n",
        "y = torch.from_numpy(y).type(torch.LongTensor)"
      ],
      "metadata": {
        "id": "TkF1VIf8FwU1"
      },
      "execution_count": 142,
      "outputs": []
    },
    {
      "cell_type": "code",
      "source": [
        "X_train, X_test, y_train, y_test = train_test_split(X, y, test_size = 0.2, random_state = 42)"
      ],
      "metadata": {
        "id": "uaALnLn3GPAk"
      },
      "execution_count": 143,
      "outputs": []
    },
    {
      "cell_type": "code",
      "source": [
        "class classification(nn.Module):\n",
        "  def __init__(self):\n",
        "    super().__init__()\n",
        "    self.lstm = nn.LSTM(300, 10)\n",
        "    self.layer_1 = nn.Sequential(\n",
        "        nn.ReLU(),\n",
        "        nn.Linear(in_features = 10, out_features = 10),\n",
        "        nn.ReLU(),\n",
        "        nn.Linear(in_features = 10, out_features = 3)\n",
        "    )\n",
        "  \n",
        "  def forward(self, x):\n",
        "    out, _ = self.lstm(x)\n",
        "    out = self.layer_1(out)\n",
        "    return out\n",
        "\n",
        "model = classification()"
      ],
      "metadata": {
        "id": "HJkMloQy_bN1"
      },
      "execution_count": 150,
      "outputs": []
    },
    {
      "cell_type": "code",
      "source": [
        "loss_fn = nn.CrossEntropyLoss()\n",
        "optimizer = torch.optim.SGD(params = model.parameters(),\n",
        "                            lr = 0.1)"
      ],
      "metadata": {
        "id": "IA2OuWVmCspU"
      },
      "execution_count": 151,
      "outputs": []
    },
    {
      "cell_type": "code",
      "source": [
        "torch.unique(y)"
      ],
      "metadata": {
        "colab": {
          "base_uri": "https://localhost:8080/"
        },
        "id": "jEfSkg4OLCEM",
        "outputId": "0da0fb3b-a682-4b22-ba7b-4d0810b464e9"
      },
      "execution_count": 152,
      "outputs": [
        {
          "output_type": "execute_result",
          "data": {
            "text/plain": [
              "tensor([0, 1, 2])"
            ]
          },
          "metadata": {},
          "execution_count": 152
        }
      ]
    },
    {
      "cell_type": "code",
      "source": [
        "# Calculate accuracy - out of 100 examples, what percentage does our model get right?\n",
        "def accuracy_fn(y_true, y_pred):\n",
        "  correct = torch.eq(y_true, y_pred).sum().item()\n",
        "  acc = (correct/len(y_pred)) * 100\n",
        "  return acc"
      ],
      "metadata": {
        "id": "GG-uEYctMieP"
      },
      "execution_count": 147,
      "outputs": []
    },
    {
      "cell_type": "code",
      "source": [
        "# Fit the multi-class model to the data\n",
        "torch.manual_seed(42)\n",
        "\n",
        "# Set number of epochs\n",
        "epochs = 5000\n",
        "\n",
        "# Loop through the data\n",
        "for epoch in range(epochs):\n",
        "  model.train()\n",
        "  y_logits = model(X_train)\n",
        "  y_pred = torch.softmax(y_logits, dim = 1).argmax(dim=1)\n",
        "  loss = loss_fn(y_logits, y_train.type(torch.LongTensor))\n",
        "  acc = accuracy_fn(y_true=y_train,\n",
        "                    y_pred=y_pred)\n",
        "  optimizer.zero_grad()\n",
        "  loss.backward()\n",
        "  optimizer.step()\n",
        "\n",
        "  ### Testing\n",
        "  model.eval()\n",
        "  with torch.inference_mode():\n",
        "    test_logits = model(X_test)\n",
        "    test_pred = torch.softmax(test_logits, dim=1).argmax(dim=1)\n",
        "    test_loss = loss_fn(test_logits, y_test.type(torch.LongTensor))\n",
        "    test_acc = accuracy_fn(y_true=y_test,\n",
        "                      y_pred=test_pred)\n",
        "  # Print out what's happening\n",
        "  if epoch % 100 == 0:\n",
        "    print(f\"Epoch : {epoch} | Loss : {loss:.5f}, Accuracy : {acc:.2f}% | Test Loss : {test_loss:.5f}, Test Accuracy : {test_acc:.2f}%\")"
      ],
      "metadata": {
        "colab": {
          "base_uri": "https://localhost:8080/"
        },
        "id": "Yt3fXjghG3t0",
        "outputId": "615d5c7b-b62b-46a2-d056-29372c1a8470"
      },
      "execution_count": 155,
      "outputs": [
        {
          "output_type": "stream",
          "name": "stdout",
          "text": [
            "Epoch : 0 | Loss : 0.56343, Accuracy : 77.05% | Test Loss : 0.90054, Test Accuracy : 62.24%\n",
            "Epoch : 100 | Loss : 0.49401, Accuracy : 81.05% | Test Loss : 0.91336, Test Accuracy : 63.16%\n",
            "Epoch : 200 | Loss : 0.43624, Accuracy : 84.09% | Test Loss : 0.94341, Test Accuracy : 64.07%\n",
            "Epoch : 300 | Loss : 0.39586, Accuracy : 85.98% | Test Loss : 0.97853, Test Accuracy : 64.07%\n",
            "Epoch : 400 | Loss : 0.34885, Accuracy : 87.86% | Test Loss : 1.02363, Test Accuracy : 62.47%\n",
            "Epoch : 500 | Loss : 0.30757, Accuracy : 89.47% | Test Loss : 1.08543, Test Accuracy : 62.47%\n",
            "Epoch : 600 | Loss : 0.26632, Accuracy : 91.76% | Test Loss : 1.07657, Test Accuracy : 63.16%\n",
            "Epoch : 700 | Loss : 0.23254, Accuracy : 92.73% | Test Loss : 1.12003, Test Accuracy : 62.47%\n",
            "Epoch : 800 | Loss : 0.21018, Accuracy : 93.76% | Test Loss : 1.15051, Test Accuracy : 63.39%\n",
            "Epoch : 900 | Loss : 0.18739, Accuracy : 94.73% | Test Loss : 1.21456, Test Accuracy : 62.47%\n",
            "Epoch : 1000 | Loss : 0.29684, Accuracy : 87.64% | Test Loss : 1.22455, Test Accuracy : 63.16%\n",
            "Epoch : 1100 | Loss : 0.15566, Accuracy : 95.54% | Test Loss : 1.30973, Test Accuracy : 62.70%\n",
            "Epoch : 1200 | Loss : 0.14150, Accuracy : 96.05% | Test Loss : 1.37375, Test Accuracy : 62.47%\n",
            "Epoch : 1300 | Loss : 0.12705, Accuracy : 96.57% | Test Loss : 1.42823, Test Accuracy : 61.56%\n",
            "Epoch : 1400 | Loss : 0.11241, Accuracy : 97.20% | Test Loss : 1.47392, Test Accuracy : 62.01%\n",
            "Epoch : 1500 | Loss : 0.10208, Accuracy : 97.25% | Test Loss : 1.53076, Test Accuracy : 62.47%\n",
            "Epoch : 1600 | Loss : 0.09414, Accuracy : 97.42% | Test Loss : 1.58358, Test Accuracy : 62.70%\n",
            "Epoch : 1700 | Loss : 0.08740, Accuracy : 97.65% | Test Loss : 1.63713, Test Accuracy : 62.70%\n",
            "Epoch : 1800 | Loss : 0.08114, Accuracy : 98.05% | Test Loss : 1.68211, Test Accuracy : 62.93%\n",
            "Epoch : 1900 | Loss : 0.07621, Accuracy : 98.23% | Test Loss : 1.72632, Test Accuracy : 63.39%\n",
            "Epoch : 2000 | Loss : 0.07184, Accuracy : 98.45% | Test Loss : 1.76710, Test Accuracy : 63.62%\n",
            "Epoch : 2100 | Loss : 0.06811, Accuracy : 98.57% | Test Loss : 1.80942, Test Accuracy : 63.39%\n",
            "Epoch : 2200 | Loss : 0.06475, Accuracy : 98.91% | Test Loss : 1.84484, Test Accuracy : 62.93%\n",
            "Epoch : 2300 | Loss : 0.06129, Accuracy : 98.97% | Test Loss : 1.89188, Test Accuracy : 62.70%\n",
            "Epoch : 2400 | Loss : 0.05817, Accuracy : 99.14% | Test Loss : 1.93161, Test Accuracy : 62.93%\n",
            "Epoch : 2500 | Loss : 0.05550, Accuracy : 99.26% | Test Loss : 1.96558, Test Accuracy : 63.84%\n",
            "Epoch : 2600 | Loss : 0.05275, Accuracy : 99.26% | Test Loss : 1.99775, Test Accuracy : 63.39%\n",
            "Epoch : 2700 | Loss : 0.04714, Accuracy : 99.31% | Test Loss : 2.03741, Test Accuracy : 62.47%\n",
            "Epoch : 2800 | Loss : 0.04473, Accuracy : 99.37% | Test Loss : 2.06514, Test Accuracy : 62.47%\n",
            "Epoch : 2900 | Loss : 0.04250, Accuracy : 99.37% | Test Loss : 2.08801, Test Accuracy : 62.47%\n",
            "Epoch : 3000 | Loss : 0.03884, Accuracy : 99.31% | Test Loss : 2.12131, Test Accuracy : 62.01%\n",
            "Epoch : 3100 | Loss : 0.03683, Accuracy : 99.31% | Test Loss : 2.14957, Test Accuracy : 62.24%\n",
            "Epoch : 3200 | Loss : 0.03524, Accuracy : 99.31% | Test Loss : 2.17352, Test Accuracy : 62.24%\n",
            "Epoch : 3300 | Loss : 0.03385, Accuracy : 99.31% | Test Loss : 2.19940, Test Accuracy : 62.47%\n",
            "Epoch : 3400 | Loss : 0.03266, Accuracy : 99.37% | Test Loss : 2.22220, Test Accuracy : 62.70%\n",
            "Epoch : 3500 | Loss : 0.03165, Accuracy : 99.43% | Test Loss : 2.24411, Test Accuracy : 62.70%\n",
            "Epoch : 3600 | Loss : 0.03078, Accuracy : 99.48% | Test Loss : 2.26554, Test Accuracy : 62.47%\n",
            "Epoch : 3700 | Loss : 0.03003, Accuracy : 99.48% | Test Loss : 2.28529, Test Accuracy : 62.70%\n",
            "Epoch : 3800 | Loss : 0.02934, Accuracy : 99.60% | Test Loss : 2.30327, Test Accuracy : 62.93%\n",
            "Epoch : 3900 | Loss : 0.02871, Accuracy : 99.60% | Test Loss : 2.32049, Test Accuracy : 62.93%\n",
            "Epoch : 4000 | Loss : 0.02812, Accuracy : 99.60% | Test Loss : 2.33709, Test Accuracy : 62.93%\n",
            "Epoch : 4100 | Loss : 0.02732, Accuracy : 99.66% | Test Loss : 2.35551, Test Accuracy : 62.93%\n",
            "Epoch : 4200 | Loss : 0.02662, Accuracy : 99.66% | Test Loss : 2.37045, Test Accuracy : 62.70%\n",
            "Epoch : 4300 | Loss : 0.02613, Accuracy : 99.66% | Test Loss : 2.38863, Test Accuracy : 62.01%\n",
            "Epoch : 4400 | Loss : 0.02567, Accuracy : 99.66% | Test Loss : 2.40492, Test Accuracy : 62.24%\n",
            "Epoch : 4500 | Loss : 0.02525, Accuracy : 99.66% | Test Loss : 2.42063, Test Accuracy : 62.24%\n",
            "Epoch : 4600 | Loss : 0.02486, Accuracy : 99.66% | Test Loss : 2.43857, Test Accuracy : 62.24%\n",
            "Epoch : 4700 | Loss : 0.02447, Accuracy : 99.66% | Test Loss : 2.45447, Test Accuracy : 62.24%\n",
            "Epoch : 4800 | Loss : 0.02411, Accuracy : 99.66% | Test Loss : 2.46965, Test Accuracy : 62.24%\n",
            "Epoch : 4900 | Loss : 0.02376, Accuracy : 99.66% | Test Loss : 2.48486, Test Accuracy : 62.47%\n"
          ]
        }
      ]
    },
    {
      "cell_type": "code",
      "source": [
        "model.eval()\n",
        "with torch.inference_mode():\n",
        "  y_logits = model(X_test)"
      ],
      "metadata": {
        "id": "4Rqnz1HjHDGv"
      },
      "execution_count": 156,
      "outputs": []
    },
    {
      "cell_type": "code",
      "source": [
        "y_pred_probs = torch.softmax(y_logits, dim=1)\n",
        "y_preds = torch.argmax(y_pred_probs, dim=1)\n",
        "y_preds[:10]"
      ],
      "metadata": {
        "colab": {
          "base_uri": "https://localhost:8080/"
        },
        "id": "0cjQyjjgsHeq",
        "outputId": "c9dd1ea6-4a5a-4a9a-aa50-89869e7d1470"
      },
      "execution_count": 157,
      "outputs": [
        {
          "output_type": "execute_result",
          "data": {
            "text/plain": [
              "tensor([0, 2, 1, 0, 1, 0, 1, 0, 0, 2])"
            ]
          },
          "metadata": {},
          "execution_count": 157
        }
      ]
    }
  ]
}