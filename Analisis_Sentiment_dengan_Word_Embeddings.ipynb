{
  "nbformat": 4,
  "nbformat_minor": 0,
  "metadata": {
    "colab": {
      "provenance": [],
      "collapsed_sections": []
    },
    "kernelspec": {
      "name": "python3",
      "display_name": "Python 3"
    },
    "language_info": {
      "name": "python"
    },
    "gpuClass": "standard"
  },
  "cells": [
    {
      "cell_type": "markdown",
      "source": [
        "# **Library yang digunakan**"
      ],
      "metadata": {
        "id": "jq-pD1bNq0FR"
      }
    },
    {
      "cell_type": "code",
      "execution_count": null,
      "metadata": {
        "id": "eYXc0nqoGkrD",
        "colab": {
          "base_uri": "https://localhost:8080/"
        },
        "outputId": "b7f47b97-df88-4a6a-a4fa-f12ab948ac78"
      },
      "outputs": [
        {
          "output_type": "stream",
          "name": "stderr",
          "text": [
            "[nltk_data] Downloading package stopwords to /root/nltk_data...\n",
            "[nltk_data]   Package stopwords is already up-to-date!\n",
            "[nltk_data] Downloading package punkt to /root/nltk_data...\n",
            "[nltk_data]   Package punkt is already up-to-date!\n"
          ]
        }
      ],
      "source": [
        "from nltk.tokenize import word_tokenize\n",
        "import pandas as pd\n",
        "import string\n",
        "import nltk\n",
        "nltk.download('stopwords')\n",
        "nltk.download('punkt')\n",
        "import re\n",
        "from sklearn.svm import SVC\n",
        "from sklearn.model_selection import cross_val_score\n",
        "from sklearn.metrics import classification_report, make_scorer, accuracy_score\n",
        "from sklearn.model_selection import train_test_split"
      ]
    },
    {
      "cell_type": "code",
      "source": [
        "!pip install spacy\n",
        "!python -m spacy download en_core_web_lg"
      ],
      "metadata": {
        "id": "Ii4-r4PjIrpE",
        "colab": {
          "base_uri": "https://localhost:8080/"
        },
        "outputId": "eaa83672-d808-49ed-b73d-7fb79dd7184f"
      },
      "execution_count": null,
      "outputs": [
        {
          "output_type": "stream",
          "name": "stdout",
          "text": [
            "Looking in indexes: https://pypi.org/simple, https://us-python.pkg.dev/colab-wheels/public/simple/\n",
            "Requirement already satisfied: spacy in /usr/local/lib/python3.7/dist-packages (3.4.1)\n",
            "Requirement already satisfied: murmurhash<1.1.0,>=0.28.0 in /usr/local/lib/python3.7/dist-packages (from spacy) (1.0.8)\n",
            "Requirement already satisfied: preshed<3.1.0,>=3.0.2 in /usr/local/lib/python3.7/dist-packages (from spacy) (3.0.7)\n",
            "Requirement already satisfied: srsly<3.0.0,>=2.4.3 in /usr/local/lib/python3.7/dist-packages (from spacy) (2.4.4)\n",
            "Requirement already satisfied: pydantic!=1.8,!=1.8.1,<1.10.0,>=1.7.4 in /usr/local/lib/python3.7/dist-packages (from spacy) (1.9.2)\n",
            "Requirement already satisfied: catalogue<2.1.0,>=2.0.6 in /usr/local/lib/python3.7/dist-packages (from spacy) (2.0.8)\n",
            "Requirement already satisfied: requests<3.0.0,>=2.13.0 in /usr/local/lib/python3.7/dist-packages (from spacy) (2.23.0)\n",
            "Requirement already satisfied: typing-extensions<4.2.0,>=3.7.4 in /usr/local/lib/python3.7/dist-packages (from spacy) (4.1.1)\n",
            "Requirement already satisfied: cymem<2.1.0,>=2.0.2 in /usr/local/lib/python3.7/dist-packages (from spacy) (2.0.6)\n",
            "Requirement already satisfied: setuptools in /usr/local/lib/python3.7/dist-packages (from spacy) (57.4.0)\n",
            "Requirement already satisfied: tqdm<5.0.0,>=4.38.0 in /usr/local/lib/python3.7/dist-packages (from spacy) (4.64.0)\n",
            "Requirement already satisfied: spacy-loggers<2.0.0,>=1.0.0 in /usr/local/lib/python3.7/dist-packages (from spacy) (1.0.3)\n",
            "Requirement already satisfied: thinc<8.2.0,>=8.1.0 in /usr/local/lib/python3.7/dist-packages (from spacy) (8.1.0)\n",
            "Requirement already satisfied: spacy-legacy<3.1.0,>=3.0.9 in /usr/local/lib/python3.7/dist-packages (from spacy) (3.0.10)\n",
            "Requirement already satisfied: typer<0.5.0,>=0.3.0 in /usr/local/lib/python3.7/dist-packages (from spacy) (0.4.2)\n",
            "Requirement already satisfied: jinja2 in /usr/local/lib/python3.7/dist-packages (from spacy) (2.11.3)\n",
            "Requirement already satisfied: pathy>=0.3.5 in /usr/local/lib/python3.7/dist-packages (from spacy) (0.6.2)\n",
            "Requirement already satisfied: packaging>=20.0 in /usr/local/lib/python3.7/dist-packages (from spacy) (21.3)\n",
            "Requirement already satisfied: numpy>=1.15.0 in /usr/local/lib/python3.7/dist-packages (from spacy) (1.21.6)\n",
            "Requirement already satisfied: langcodes<4.0.0,>=3.2.0 in /usr/local/lib/python3.7/dist-packages (from spacy) (3.3.0)\n",
            "Requirement already satisfied: wasabi<1.1.0,>=0.9.1 in /usr/local/lib/python3.7/dist-packages (from spacy) (0.10.1)\n",
            "Requirement already satisfied: zipp>=0.5 in /usr/local/lib/python3.7/dist-packages (from catalogue<2.1.0,>=2.0.6->spacy) (3.8.1)\n",
            "Requirement already satisfied: pyparsing!=3.0.5,>=2.0.2 in /usr/local/lib/python3.7/dist-packages (from packaging>=20.0->spacy) (3.0.9)\n",
            "Requirement already satisfied: smart-open<6.0.0,>=5.2.1 in /usr/local/lib/python3.7/dist-packages (from pathy>=0.3.5->spacy) (5.2.1)\n",
            "Requirement already satisfied: idna<3,>=2.5 in /usr/local/lib/python3.7/dist-packages (from requests<3.0.0,>=2.13.0->spacy) (2.10)\n",
            "Requirement already satisfied: urllib3!=1.25.0,!=1.25.1,<1.26,>=1.21.1 in /usr/local/lib/python3.7/dist-packages (from requests<3.0.0,>=2.13.0->spacy) (1.24.3)\n",
            "Requirement already satisfied: certifi>=2017.4.17 in /usr/local/lib/python3.7/dist-packages (from requests<3.0.0,>=2.13.0->spacy) (2022.6.15)\n",
            "Requirement already satisfied: chardet<4,>=3.0.2 in /usr/local/lib/python3.7/dist-packages (from requests<3.0.0,>=2.13.0->spacy) (3.0.4)\n",
            "Requirement already satisfied: blis<0.8.0,>=0.7.8 in /usr/local/lib/python3.7/dist-packages (from thinc<8.2.0,>=8.1.0->spacy) (0.7.8)\n",
            "Requirement already satisfied: click<9.0.0,>=7.1.1 in /usr/local/lib/python3.7/dist-packages (from typer<0.5.0,>=0.3.0->spacy) (7.1.2)\n",
            "Requirement already satisfied: MarkupSafe>=0.23 in /usr/local/lib/python3.7/dist-packages (from jinja2->spacy) (2.0.1)\n",
            "2022-08-28 05:23:55.660836: E tensorflow/stream_executor/cuda/cuda_driver.cc:271] failed call to cuInit: CUDA_ERROR_NO_DEVICE: no CUDA-capable device is detected\n",
            "Looking in indexes: https://pypi.org/simple, https://us-python.pkg.dev/colab-wheels/public/simple/\n",
            "Collecting en-core-web-lg==3.4.0\n",
            "  Downloading https://github.com/explosion/spacy-models/releases/download/en_core_web_lg-3.4.0/en_core_web_lg-3.4.0-py3-none-any.whl (587.7 MB)\n",
            "\u001b[K     |████████████████████████████████| 587.7 MB 8.5 kB/s \n",
            "\u001b[?25hRequirement already satisfied: spacy<3.5.0,>=3.4.0 in /usr/local/lib/python3.7/dist-packages (from en-core-web-lg==3.4.0) (3.4.1)\n",
            "Requirement already satisfied: tqdm<5.0.0,>=4.38.0 in /usr/local/lib/python3.7/dist-packages (from spacy<3.5.0,>=3.4.0->en-core-web-lg==3.4.0) (4.64.0)\n",
            "Requirement already satisfied: pydantic!=1.8,!=1.8.1,<1.10.0,>=1.7.4 in /usr/local/lib/python3.7/dist-packages (from spacy<3.5.0,>=3.4.0->en-core-web-lg==3.4.0) (1.9.2)\n",
            "Requirement already satisfied: packaging>=20.0 in /usr/local/lib/python3.7/dist-packages (from spacy<3.5.0,>=3.4.0->en-core-web-lg==3.4.0) (21.3)\n",
            "Requirement already satisfied: typer<0.5.0,>=0.3.0 in /usr/local/lib/python3.7/dist-packages (from spacy<3.5.0,>=3.4.0->en-core-web-lg==3.4.0) (0.4.2)\n",
            "Requirement already satisfied: cymem<2.1.0,>=2.0.2 in /usr/local/lib/python3.7/dist-packages (from spacy<3.5.0,>=3.4.0->en-core-web-lg==3.4.0) (2.0.6)\n",
            "Requirement already satisfied: setuptools in /usr/local/lib/python3.7/dist-packages (from spacy<3.5.0,>=3.4.0->en-core-web-lg==3.4.0) (57.4.0)\n",
            "Requirement already satisfied: catalogue<2.1.0,>=2.0.6 in /usr/local/lib/python3.7/dist-packages (from spacy<3.5.0,>=3.4.0->en-core-web-lg==3.4.0) (2.0.8)\n",
            "Requirement already satisfied: jinja2 in /usr/local/lib/python3.7/dist-packages (from spacy<3.5.0,>=3.4.0->en-core-web-lg==3.4.0) (2.11.3)\n",
            "Requirement already satisfied: thinc<8.2.0,>=8.1.0 in /usr/local/lib/python3.7/dist-packages (from spacy<3.5.0,>=3.4.0->en-core-web-lg==3.4.0) (8.1.0)\n",
            "Requirement already satisfied: wasabi<1.1.0,>=0.9.1 in /usr/local/lib/python3.7/dist-packages (from spacy<3.5.0,>=3.4.0->en-core-web-lg==3.4.0) (0.10.1)\n",
            "Requirement already satisfied: langcodes<4.0.0,>=3.2.0 in /usr/local/lib/python3.7/dist-packages (from spacy<3.5.0,>=3.4.0->en-core-web-lg==3.4.0) (3.3.0)\n",
            "Requirement already satisfied: requests<3.0.0,>=2.13.0 in /usr/local/lib/python3.7/dist-packages (from spacy<3.5.0,>=3.4.0->en-core-web-lg==3.4.0) (2.23.0)\n",
            "Requirement already satisfied: srsly<3.0.0,>=2.4.3 in /usr/local/lib/python3.7/dist-packages (from spacy<3.5.0,>=3.4.0->en-core-web-lg==3.4.0) (2.4.4)\n",
            "Requirement already satisfied: spacy-legacy<3.1.0,>=3.0.9 in /usr/local/lib/python3.7/dist-packages (from spacy<3.5.0,>=3.4.0->en-core-web-lg==3.4.0) (3.0.10)\n",
            "Requirement already satisfied: typing-extensions<4.2.0,>=3.7.4 in /usr/local/lib/python3.7/dist-packages (from spacy<3.5.0,>=3.4.0->en-core-web-lg==3.4.0) (4.1.1)\n",
            "Requirement already satisfied: preshed<3.1.0,>=3.0.2 in /usr/local/lib/python3.7/dist-packages (from spacy<3.5.0,>=3.4.0->en-core-web-lg==3.4.0) (3.0.7)\n",
            "Requirement already satisfied: pathy>=0.3.5 in /usr/local/lib/python3.7/dist-packages (from spacy<3.5.0,>=3.4.0->en-core-web-lg==3.4.0) (0.6.2)\n",
            "Requirement already satisfied: numpy>=1.15.0 in /usr/local/lib/python3.7/dist-packages (from spacy<3.5.0,>=3.4.0->en-core-web-lg==3.4.0) (1.21.6)\n",
            "Requirement already satisfied: murmurhash<1.1.0,>=0.28.0 in /usr/local/lib/python3.7/dist-packages (from spacy<3.5.0,>=3.4.0->en-core-web-lg==3.4.0) (1.0.8)\n",
            "Requirement already satisfied: spacy-loggers<2.0.0,>=1.0.0 in /usr/local/lib/python3.7/dist-packages (from spacy<3.5.0,>=3.4.0->en-core-web-lg==3.4.0) (1.0.3)\n",
            "Requirement already satisfied: zipp>=0.5 in /usr/local/lib/python3.7/dist-packages (from catalogue<2.1.0,>=2.0.6->spacy<3.5.0,>=3.4.0->en-core-web-lg==3.4.0) (3.8.1)\n",
            "Requirement already satisfied: pyparsing!=3.0.5,>=2.0.2 in /usr/local/lib/python3.7/dist-packages (from packaging>=20.0->spacy<3.5.0,>=3.4.0->en-core-web-lg==3.4.0) (3.0.9)\n",
            "Requirement already satisfied: smart-open<6.0.0,>=5.2.1 in /usr/local/lib/python3.7/dist-packages (from pathy>=0.3.5->spacy<3.5.0,>=3.4.0->en-core-web-lg==3.4.0) (5.2.1)\n",
            "Requirement already satisfied: chardet<4,>=3.0.2 in /usr/local/lib/python3.7/dist-packages (from requests<3.0.0,>=2.13.0->spacy<3.5.0,>=3.4.0->en-core-web-lg==3.4.0) (3.0.4)\n",
            "Requirement already satisfied: idna<3,>=2.5 in /usr/local/lib/python3.7/dist-packages (from requests<3.0.0,>=2.13.0->spacy<3.5.0,>=3.4.0->en-core-web-lg==3.4.0) (2.10)\n",
            "Requirement already satisfied: urllib3!=1.25.0,!=1.25.1,<1.26,>=1.21.1 in /usr/local/lib/python3.7/dist-packages (from requests<3.0.0,>=2.13.0->spacy<3.5.0,>=3.4.0->en-core-web-lg==3.4.0) (1.24.3)\n",
            "Requirement already satisfied: certifi>=2017.4.17 in /usr/local/lib/python3.7/dist-packages (from requests<3.0.0,>=2.13.0->spacy<3.5.0,>=3.4.0->en-core-web-lg==3.4.0) (2022.6.15)\n",
            "Requirement already satisfied: blis<0.8.0,>=0.7.8 in /usr/local/lib/python3.7/dist-packages (from thinc<8.2.0,>=8.1.0->spacy<3.5.0,>=3.4.0->en-core-web-lg==3.4.0) (0.7.8)\n",
            "Requirement already satisfied: click<9.0.0,>=7.1.1 in /usr/local/lib/python3.7/dist-packages (from typer<0.5.0,>=0.3.0->spacy<3.5.0,>=3.4.0->en-core-web-lg==3.4.0) (7.1.2)\n",
            "Requirement already satisfied: MarkupSafe>=0.23 in /usr/local/lib/python3.7/dist-packages (from jinja2->spacy<3.5.0,>=3.4.0->en-core-web-lg==3.4.0) (2.0.1)\n",
            "Installing collected packages: en-core-web-lg\n",
            "Successfully installed en-core-web-lg-3.4.0\n",
            "\u001b[38;5;2m✔ Download and installation successful\u001b[0m\n",
            "You can now load the package via spacy.load('en_core_web_lg')\n"
          ]
        }
      ]
    },
    {
      "cell_type": "markdown",
      "source": [
        "# **Read Data**"
      ],
      "metadata": {
        "id": "FR8d8uzRrHif"
      }
    },
    {
      "cell_type": "code",
      "source": [
        "df = pd.read_csv('RT_FIX.csv')"
      ],
      "metadata": {
        "id": "dwdqkEgBGxqF"
      },
      "execution_count": null,
      "outputs": []
    },
    {
      "cell_type": "code",
      "source": [
        "df.dropna()"
      ],
      "metadata": {
        "id": "ikdhqCof-qwR",
        "colab": {
          "base_uri": "https://localhost:8080/",
          "height": 424
        },
        "outputId": "403260dd-fba3-4132-fd76-a3805ecbca4f"
      },
      "execution_count": null,
      "outputs": [
        {
          "output_type": "execute_result",
          "data": {
            "text/plain": [
              "      Unnamed: 0                                               Text  Sentiment\n",
              "0           6872  minecraft isnt the best test for rtx try cyber...          2\n",
              "1           4820  i think crysis  looked pretty horrible with it...          1\n",
              "2             53  yo is cyberpunk a good buy now ive put off buy...          1\n",
              "3           9728                     i think you misspelled a leech          3\n",
              "4          10194      i can tell the difference my frame rate drops          3\n",
              "...          ...                                                ...        ...\n",
              "2300        8747    look closelier very rarely used adverb for c...          1\n",
              "2301       16007  gta  on high graphics is still better than thi...          2\n",
              "2302        3762     so you didnt lock the fps on both to like  or           1\n",
              "2303       18250  erectilesceptile ok for me its p k you running...          1\n",
              "2304        5815  i saw post some time ago and i want to echo it...          1\n",
              "\n",
              "[2298 rows x 3 columns]"
            ],
            "text/html": [
              "\n",
              "  <div id=\"df-57414755-f1f0-4c82-8352-25214d93c80c\">\n",
              "    <div class=\"colab-df-container\">\n",
              "      <div>\n",
              "<style scoped>\n",
              "    .dataframe tbody tr th:only-of-type {\n",
              "        vertical-align: middle;\n",
              "    }\n",
              "\n",
              "    .dataframe tbody tr th {\n",
              "        vertical-align: top;\n",
              "    }\n",
              "\n",
              "    .dataframe thead th {\n",
              "        text-align: right;\n",
              "    }\n",
              "</style>\n",
              "<table border=\"1\" class=\"dataframe\">\n",
              "  <thead>\n",
              "    <tr style=\"text-align: right;\">\n",
              "      <th></th>\n",
              "      <th>Unnamed: 0</th>\n",
              "      <th>Text</th>\n",
              "      <th>Sentiment</th>\n",
              "    </tr>\n",
              "  </thead>\n",
              "  <tbody>\n",
              "    <tr>\n",
              "      <th>0</th>\n",
              "      <td>6872</td>\n",
              "      <td>minecraft isnt the best test for rtx try cyber...</td>\n",
              "      <td>2</td>\n",
              "    </tr>\n",
              "    <tr>\n",
              "      <th>1</th>\n",
              "      <td>4820</td>\n",
              "      <td>i think crysis  looked pretty horrible with it...</td>\n",
              "      <td>1</td>\n",
              "    </tr>\n",
              "    <tr>\n",
              "      <th>2</th>\n",
              "      <td>53</td>\n",
              "      <td>yo is cyberpunk a good buy now ive put off buy...</td>\n",
              "      <td>1</td>\n",
              "    </tr>\n",
              "    <tr>\n",
              "      <th>3</th>\n",
              "      <td>9728</td>\n",
              "      <td>i think you misspelled a leech</td>\n",
              "      <td>3</td>\n",
              "    </tr>\n",
              "    <tr>\n",
              "      <th>4</th>\n",
              "      <td>10194</td>\n",
              "      <td>i can tell the difference my frame rate drops</td>\n",
              "      <td>3</td>\n",
              "    </tr>\n",
              "    <tr>\n",
              "      <th>...</th>\n",
              "      <td>...</td>\n",
              "      <td>...</td>\n",
              "      <td>...</td>\n",
              "    </tr>\n",
              "    <tr>\n",
              "      <th>2300</th>\n",
              "      <td>8747</td>\n",
              "      <td>look closelier very rarely used adverb for c...</td>\n",
              "      <td>1</td>\n",
              "    </tr>\n",
              "    <tr>\n",
              "      <th>2301</th>\n",
              "      <td>16007</td>\n",
              "      <td>gta  on high graphics is still better than thi...</td>\n",
              "      <td>2</td>\n",
              "    </tr>\n",
              "    <tr>\n",
              "      <th>2302</th>\n",
              "      <td>3762</td>\n",
              "      <td>so you didnt lock the fps on both to like  or</td>\n",
              "      <td>1</td>\n",
              "    </tr>\n",
              "    <tr>\n",
              "      <th>2303</th>\n",
              "      <td>18250</td>\n",
              "      <td>erectilesceptile ok for me its p k you running...</td>\n",
              "      <td>1</td>\n",
              "    </tr>\n",
              "    <tr>\n",
              "      <th>2304</th>\n",
              "      <td>5815</td>\n",
              "      <td>i saw post some time ago and i want to echo it...</td>\n",
              "      <td>1</td>\n",
              "    </tr>\n",
              "  </tbody>\n",
              "</table>\n",
              "<p>2298 rows × 3 columns</p>\n",
              "</div>\n",
              "      <button class=\"colab-df-convert\" onclick=\"convertToInteractive('df-57414755-f1f0-4c82-8352-25214d93c80c')\"\n",
              "              title=\"Convert this dataframe to an interactive table.\"\n",
              "              style=\"display:none;\">\n",
              "        \n",
              "  <svg xmlns=\"http://www.w3.org/2000/svg\" height=\"24px\"viewBox=\"0 0 24 24\"\n",
              "       width=\"24px\">\n",
              "    <path d=\"M0 0h24v24H0V0z\" fill=\"none\"/>\n",
              "    <path d=\"M18.56 5.44l.94 2.06.94-2.06 2.06-.94-2.06-.94-.94-2.06-.94 2.06-2.06.94zm-11 1L8.5 8.5l.94-2.06 2.06-.94-2.06-.94L8.5 2.5l-.94 2.06-2.06.94zm10 10l.94 2.06.94-2.06 2.06-.94-2.06-.94-.94-2.06-.94 2.06-2.06.94z\"/><path d=\"M17.41 7.96l-1.37-1.37c-.4-.4-.92-.59-1.43-.59-.52 0-1.04.2-1.43.59L10.3 9.45l-7.72 7.72c-.78.78-.78 2.05 0 2.83L4 21.41c.39.39.9.59 1.41.59.51 0 1.02-.2 1.41-.59l7.78-7.78 2.81-2.81c.8-.78.8-2.07 0-2.86zM5.41 20L4 18.59l7.72-7.72 1.47 1.35L5.41 20z\"/>\n",
              "  </svg>\n",
              "      </button>\n",
              "      \n",
              "  <style>\n",
              "    .colab-df-container {\n",
              "      display:flex;\n",
              "      flex-wrap:wrap;\n",
              "      gap: 12px;\n",
              "    }\n",
              "\n",
              "    .colab-df-convert {\n",
              "      background-color: #E8F0FE;\n",
              "      border: none;\n",
              "      border-radius: 50%;\n",
              "      cursor: pointer;\n",
              "      display: none;\n",
              "      fill: #1967D2;\n",
              "      height: 32px;\n",
              "      padding: 0 0 0 0;\n",
              "      width: 32px;\n",
              "    }\n",
              "\n",
              "    .colab-df-convert:hover {\n",
              "      background-color: #E2EBFA;\n",
              "      box-shadow: 0px 1px 2px rgba(60, 64, 67, 0.3), 0px 1px 3px 1px rgba(60, 64, 67, 0.15);\n",
              "      fill: #174EA6;\n",
              "    }\n",
              "\n",
              "    [theme=dark] .colab-df-convert {\n",
              "      background-color: #3B4455;\n",
              "      fill: #D2E3FC;\n",
              "    }\n",
              "\n",
              "    [theme=dark] .colab-df-convert:hover {\n",
              "      background-color: #434B5C;\n",
              "      box-shadow: 0px 1px 3px 1px rgba(0, 0, 0, 0.15);\n",
              "      filter: drop-shadow(0px 1px 2px rgba(0, 0, 0, 0.3));\n",
              "      fill: #FFFFFF;\n",
              "    }\n",
              "  </style>\n",
              "\n",
              "      <script>\n",
              "        const buttonEl =\n",
              "          document.querySelector('#df-57414755-f1f0-4c82-8352-25214d93c80c button.colab-df-convert');\n",
              "        buttonEl.style.display =\n",
              "          google.colab.kernel.accessAllowed ? 'block' : 'none';\n",
              "\n",
              "        async function convertToInteractive(key) {\n",
              "          const element = document.querySelector('#df-57414755-f1f0-4c82-8352-25214d93c80c');\n",
              "          const dataTable =\n",
              "            await google.colab.kernel.invokeFunction('convertToInteractive',\n",
              "                                                     [key], {});\n",
              "          if (!dataTable) return;\n",
              "\n",
              "          const docLinkHtml = 'Like what you see? Visit the ' +\n",
              "            '<a target=\"_blank\" href=https://colab.research.google.com/notebooks/data_table.ipynb>data table notebook</a>'\n",
              "            + ' to learn more about interactive tables.';\n",
              "          element.innerHTML = '';\n",
              "          dataTable['output_type'] = 'display_data';\n",
              "          await google.colab.output.renderOutput(dataTable, element);\n",
              "          const docLink = document.createElement('div');\n",
              "          docLink.innerHTML = docLinkHtml;\n",
              "          element.appendChild(docLink);\n",
              "        }\n",
              "      </script>\n",
              "    </div>\n",
              "  </div>\n",
              "  "
            ]
          },
          "metadata": {},
          "execution_count": 152
        }
      ]
    },
    {
      "cell_type": "code",
      "source": [
        "df['Sentiment'].value_counts()"
      ],
      "metadata": {
        "id": "nmQ8PSX9e72b",
        "colab": {
          "base_uri": "https://localhost:8080/"
        },
        "outputId": "5d918890-ac6a-43a9-dc1e-154734c77be0"
      },
      "execution_count": null,
      "outputs": [
        {
          "output_type": "execute_result",
          "data": {
            "text/plain": [
              "1    782\n",
              "3    769\n",
              "2    754\n",
              "Name: Sentiment, dtype: int64"
            ]
          },
          "metadata": {},
          "execution_count": 153
        }
      ]
    },
    {
      "cell_type": "code",
      "source": [
        "import matplotlib.pyplot as plt\n",
        "\n",
        "name = ['1','2','3']\n",
        "freqs = [854, 852, 839]\n",
        "plt.pie(freqs,labels=name,autopct='%0.1f%%')\n",
        "plt.legend(name)\n",
        "plt.axis('equal')\n",
        "\n",
        "plt.show()"
      ],
      "metadata": {
        "colab": {
          "base_uri": "https://localhost:8080/",
          "height": 248
        },
        "id": "Bsp3zNsXolRG",
        "outputId": "3003d9ad-af4d-4dd1-ddee-a18fbefdc65b"
      },
      "execution_count": null,
      "outputs": [
        {
          "output_type": "display_data",
          "data": {
            "text/plain": [
              "<Figure size 432x288 with 1 Axes>"
            ],
            "image/png": "[encoded data removed]"
          },
          "metadata": {}
        }
      ]
    },
    {
      "cell_type": "markdown",
      "source": [
        "# **Preprocessing**"
      ],
      "metadata": {
        "id": "iKUPOI0ArKcB"
      }
    },
    {
      "cell_type": "code",
      "source": [
        "def remove_punct(text):\n",
        "    text  = \"\".join([char for char in text if char not in string.punctuation])\n",
        "    text = re.sub('[0-9]+', '', text)\n",
        "    return text"
      ],
      "metadata": {
        "id": "ilMPsTQyHeoN"
      },
      "execution_count": null,
      "outputs": []
    },
    {
      "cell_type": "code",
      "source": [
        "def remove_non_ascii(s):\n",
        "    return \"\".join(c for c in s if ord(c)<128)"
      ],
      "metadata": {
        "id": "R0P_J1pWHjG-"
      },
      "execution_count": null,
      "outputs": []
    },
    {
      "cell_type": "code",
      "source": [
        "def remove_emojis(data):\n",
        "    emoj = re.compile(\"[\"\n",
        "        u\"\\U0001F600-\\U0001F64F\"  \n",
        "        u\"\\U0001F300-\\U0001F5FF\"  \n",
        "        u\"\\U0001F680-\\U0001F6FF\"  \n",
        "        u\"\\U0001F1E0-\\U0001F1FF\"  \n",
        "        u\"\\U00002500-\\U00002BEF\"  \n",
        "        u\"\\U00002702-\\U000027B0\"\n",
        "        u\"\\U00002702-\\U000027B0\"\n",
        "        u\"\\U000024C2-\\U0001F251\"\n",
        "        u\"\\U0001f926-\\U0001f937\"\n",
        "        u\"\\U00010000-\\U0010ffff\"\n",
        "        u\"\\u2640-\\u2642\" \n",
        "        u\"\\u2600-\\u2B55\"\n",
        "        u\"\\u200d\"\n",
        "        u\"\\u23cf\"\n",
        "        u\"\\u23e9\"\n",
        "        u\"\\u231a\"\n",
        "        u\"\\ufe0f\" \n",
        "        u\"\\u3030\"\n",
        "                      \"]+\", re.UNICODE)\n",
        "    return re.sub(emoj, '', data)"
      ],
      "metadata": {
        "id": "htQkFjgFHme8"
      },
      "execution_count": null,
      "outputs": []
    },
    {
      "cell_type": "code",
      "source": [
        "df['Text'] = df['Text'].astype(str)\n",
        "df['Text'] = df['Text'].str.lower()\n",
        "df['Text'] = df['Text'].apply(lambda x: remove_punct(x))\n",
        "df['Text'] = df['Text'].apply(lambda x: remove_non_ascii(x))\n",
        "df['Text'] = df['Text'].str.replace('â€™', '\\'')\n",
        "df['Text'] = df['Text'].apply(remove_emojis)"
      ],
      "metadata": {
        "id": "ERND0_4fHtjE"
      },
      "execution_count": null,
      "outputs": []
    },
    {
      "cell_type": "code",
      "source": [
        "df.head(30)"
      ],
      "metadata": {
        "id": "oAiHYK6FyKPY",
        "colab": {
          "base_uri": "https://localhost:8080/",
          "height": 990
        },
        "outputId": "755afac8-d218-4c86-eaf0-156008f5d241"
      },
      "execution_count": null,
      "outputs": [
        {
          "output_type": "execute_result",
          "data": {
            "text/plain": [
              "    Unnamed: 0                                               Text  Sentiment\n",
              "0         6872  minecraft isnt the best test for rtx try cyber...          2\n",
              "1         4820  i think crysis  looked pretty horrible with it...          1\n",
              "2           53  yo is cyberpunk a good buy now ive put off buy...          1\n",
              "3         9728                     i think you misspelled a leech          3\n",
              "4        10194      i can tell the difference my frame rate drops          3\n",
              "5        18073  a game with just good graphics  and they call ...          1\n",
              "6         8511  rtx  high fps loss for minimal visual gains id...          1\n",
              "7         5193                                      look closlier          3\n",
              "8         4060  in bfv urban maps with rtx on you can literall...          1\n",
              "9        11046  thomas k old one didnt have dlss  either and p...          1\n",
              "10        4934  it kind of is a waste just got my new  pc end ...          2\n",
              "11       16732                      wait a minute same  cars lmao          1\n",
              "12         771  shobhit sadwal tughe pata bhi hai ki ray traci...          3\n",
              "13         400  raytracing is useless on non raytracing design...          2\n",
              "14       13794                            man rom but old is gold          3\n",
              "15       15444            my pc cant properly play the video at k          2\n",
              "16       16936         quadras in a row  including the playerswtf          3\n",
              "17        9227         idafk is that an unfunny joke or a failure          2\n",
              "18        9299  some games raytracing does make a big differen...          3\n",
              "19        3541  right now outside of the fullypathtraced rebui...          2\n",
              "20       16729     what is the song name after he get in the car           3\n",
              "21        5477    ltt lately is going down with the level so hard          2\n",
              "22        3699  ray tracings nothing new but now with tflop ch...          1\n",
              "23         332  esos que dicen que el rtx no les impresiona de...          2\n",
              "24        3411  i use a ti with no working fans a p tn panel m...          2\n",
              "25         398  thats what ray tracing does everything is extr...          2\n",
              "26       17609                physics is worse than a mobile game          2\n",
              "27       13474  him max settings   k   ray tracing me wonderin...          2\n",
              "28        2172  rtx minecraft looks really bad and flat becaus...          2\n",
              "29       14384  fun facthe recorded this with the ps but hes n...          1"
            ],
            "text/html": [
              "\n",
              "  <div id=\"df-7fe8a611-3185-49a0-8e86-be2c0d0d44a9\">\n",
              "    <div class=\"colab-df-container\">\n",
              "      <div>\n",
              "<style scoped>\n",
              "    .dataframe tbody tr th:only-of-type {\n",
              "        vertical-align: middle;\n",
              "    }\n",
              "\n",
              "    .dataframe tbody tr th {\n",
              "        vertical-align: top;\n",
              "    }\n",
              "\n",
              "    .dataframe thead th {\n",
              "        text-align: right;\n",
              "    }\n",
              "</style>\n",
              "<table border=\"1\" class=\"dataframe\">\n",
              "  <thead>\n",
              "    <tr style=\"text-align: right;\">\n",
              "      <th></th>\n",
              "      <th>Unnamed: 0</th>\n",
              "      <th>Text</th>\n",
              "      <th>Sentiment</th>\n",
              "    </tr>\n",
              "  </thead>\n",
              "  <tbody>\n",
              "    <tr>\n",
              "      <th>0</th>\n",
              "      <td>6872</td>\n",
              "      <td>minecraft isnt the best test for rtx try cyber...</td>\n",
              "      <td>2</td>\n",
              "    </tr>\n",
              "    <tr>\n",
              "      <th>1</th>\n",
              "      <td>4820</td>\n",
              "      <td>i think crysis  looked pretty horrible with it...</td>\n",
              "      <td>1</td>\n",
              "    </tr>\n",
              "    <tr>\n",
              "      <th>2</th>\n",
              "      <td>53</td>\n",
              "      <td>yo is cyberpunk a good buy now ive put off buy...</td>\n",
              "      <td>1</td>\n",
              "    </tr>\n",
              "    <tr>\n",
              "      <th>3</th>\n",
              "      <td>9728</td>\n",
              "      <td>i think you misspelled a leech</td>\n",
              "      <td>3</td>\n",
              "    </tr>\n",
              "    <tr>\n",
              "      <th>4</th>\n",
              "      <td>10194</td>\n",
              "      <td>i can tell the difference my frame rate drops</td>\n",
              "      <td>3</td>\n",
              "    </tr>\n",
              "    <tr>\n",
              "      <th>5</th>\n",
              "      <td>18073</td>\n",
              "      <td>a game with just good graphics  and they call ...</td>\n",
              "      <td>1</td>\n",
              "    </tr>\n",
              "    <tr>\n",
              "      <th>6</th>\n",
              "      <td>8511</td>\n",
              "      <td>rtx  high fps loss for minimal visual gains id...</td>\n",
              "      <td>1</td>\n",
              "    </tr>\n",
              "    <tr>\n",
              "      <th>7</th>\n",
              "      <td>5193</td>\n",
              "      <td>look closlier</td>\n",
              "      <td>3</td>\n",
              "    </tr>\n",
              "    <tr>\n",
              "      <th>8</th>\n",
              "      <td>4060</td>\n",
              "      <td>in bfv urban maps with rtx on you can literall...</td>\n",
              "      <td>1</td>\n",
              "    </tr>\n",
              "    <tr>\n",
              "      <th>9</th>\n",
              "      <td>11046</td>\n",
              "      <td>thomas k old one didnt have dlss  either and p...</td>\n",
              "      <td>1</td>\n",
              "    </tr>\n",
              "    <tr>\n",
              "      <th>10</th>\n",
              "      <td>4934</td>\n",
              "      <td>it kind of is a waste just got my new  pc end ...</td>\n",
              "      <td>2</td>\n",
              "    </tr>\n",
              "    <tr>\n",
              "      <th>11</th>\n",
              "      <td>16732</td>\n",
              "      <td>wait a minute same  cars lmao</td>\n",
              "      <td>1</td>\n",
              "    </tr>\n",
              "    <tr>\n",
              "      <th>12</th>\n",
              "      <td>771</td>\n",
              "      <td>shobhit sadwal tughe pata bhi hai ki ray traci...</td>\n",
              "      <td>3</td>\n",
              "    </tr>\n",
              "    <tr>\n",
              "      <th>13</th>\n",
              "      <td>400</td>\n",
              "      <td>raytracing is useless on non raytracing design...</td>\n",
              "      <td>2</td>\n",
              "    </tr>\n",
              "    <tr>\n",
              "      <th>14</th>\n",
              "      <td>13794</td>\n",
              "      <td>man rom but old is gold</td>\n",
              "      <td>3</td>\n",
              "    </tr>\n",
              "    <tr>\n",
              "      <th>15</th>\n",
              "      <td>15444</td>\n",
              "      <td>my pc cant properly play the video at k</td>\n",
              "      <td>2</td>\n",
              "    </tr>\n",
              "    <tr>\n",
              "      <th>16</th>\n",
              "      <td>16936</td>\n",
              "      <td>quadras in a row  including the playerswtf</td>\n",
              "      <td>3</td>\n",
              "    </tr>\n",
              "    <tr>\n",
              "      <th>17</th>\n",
              "      <td>9227</td>\n",
              "      <td>idafk is that an unfunny joke or a failure</td>\n",
              "      <td>2</td>\n",
              "    </tr>\n",
              "    <tr>\n",
              "      <th>18</th>\n",
              "      <td>9299</td>\n",
              "      <td>some games raytracing does make a big differen...</td>\n",
              "      <td>3</td>\n",
              "    </tr>\n",
              "    <tr>\n",
              "      <th>19</th>\n",
              "      <td>3541</td>\n",
              "      <td>right now outside of the fullypathtraced rebui...</td>\n",
              "      <td>2</td>\n",
              "    </tr>\n",
              "    <tr>\n",
              "      <th>20</th>\n",
              "      <td>16729</td>\n",
              "      <td>what is the song name after he get in the car</td>\n",
              "      <td>3</td>\n",
              "    </tr>\n",
              "    <tr>\n",
              "      <th>21</th>\n",
              "      <td>5477</td>\n",
              "      <td>ltt lately is going down with the level so hard</td>\n",
              "      <td>2</td>\n",
              "    </tr>\n",
              "    <tr>\n",
              "      <th>22</th>\n",
              "      <td>3699</td>\n",
              "      <td>ray tracings nothing new but now with tflop ch...</td>\n",
              "      <td>1</td>\n",
              "    </tr>\n",
              "    <tr>\n",
              "      <th>23</th>\n",
              "      <td>332</td>\n",
              "      <td>esos que dicen que el rtx no les impresiona de...</td>\n",
              "      <td>2</td>\n",
              "    </tr>\n",
              "    <tr>\n",
              "      <th>24</th>\n",
              "      <td>3411</td>\n",
              "      <td>i use a ti with no working fans a p tn panel m...</td>\n",
              "      <td>2</td>\n",
              "    </tr>\n",
              "    <tr>\n",
              "      <th>25</th>\n",
              "      <td>398</td>\n",
              "      <td>thats what ray tracing does everything is extr...</td>\n",
              "      <td>2</td>\n",
              "    </tr>\n",
              "    <tr>\n",
              "      <th>26</th>\n",
              "      <td>17609</td>\n",
              "      <td>physics is worse than a mobile game</td>\n",
              "      <td>2</td>\n",
              "    </tr>\n",
              "    <tr>\n",
              "      <th>27</th>\n",
              "      <td>13474</td>\n",
              "      <td>him max settings   k   ray tracing me wonderin...</td>\n",
              "      <td>2</td>\n",
              "    </tr>\n",
              "    <tr>\n",
              "      <th>28</th>\n",
              "      <td>2172</td>\n",
              "      <td>rtx minecraft looks really bad and flat becaus...</td>\n",
              "      <td>2</td>\n",
              "    </tr>\n",
              "    <tr>\n",
              "      <th>29</th>\n",
              "      <td>14384</td>\n",
              "      <td>fun facthe recorded this with the ps but hes n...</td>\n",
              "      <td>1</td>\n",
              "    </tr>\n",
              "  </tbody>\n",
              "</table>\n",
              "</div>\n",
              "      <button class=\"colab-df-convert\" onclick=\"convertToInteractive('df-7fe8a611-3185-49a0-8e86-be2c0d0d44a9')\"\n",
              "              title=\"Convert this dataframe to an interactive table.\"\n",
              "              style=\"display:none;\">\n",
              "        \n",
              "  <svg xmlns=\"http://www.w3.org/2000/svg\" height=\"24px\"viewBox=\"0 0 24 24\"\n",
              "       width=\"24px\">\n",
              "    <path d=\"M0 0h24v24H0V0z\" fill=\"none\"/>\n",
              "    <path d=\"M18.56 5.44l.94 2.06.94-2.06 2.06-.94-2.06-.94-.94-2.06-.94 2.06-2.06.94zm-11 1L8.5 8.5l.94-2.06 2.06-.94-2.06-.94L8.5 2.5l-.94 2.06-2.06.94zm10 10l.94 2.06.94-2.06 2.06-.94-2.06-.94-.94-2.06-.94 2.06-2.06.94z\"/><path d=\"M17.41 7.96l-1.37-1.37c-.4-.4-.92-.59-1.43-.59-.52 0-1.04.2-1.43.59L10.3 9.45l-7.72 7.72c-.78.78-.78 2.05 0 2.83L4 21.41c.39.39.9.59 1.41.59.51 0 1.02-.2 1.41-.59l7.78-7.78 2.81-2.81c.8-.78.8-2.07 0-2.86zM5.41 20L4 18.59l7.72-7.72 1.47 1.35L5.41 20z\"/>\n",
              "  </svg>\n",
              "      </button>\n",
              "      \n",
              "  <style>\n",
              "    .colab-df-container {\n",
              "      display:flex;\n",
              "      flex-wrap:wrap;\n",
              "      gap: 12px;\n",
              "    }\n",
              "\n",
              "    .colab-df-convert {\n",
              "      background-color: #E8F0FE;\n",
              "      border: none;\n",
              "      border-radius: 50%;\n",
              "      cursor: pointer;\n",
              "      display: none;\n",
              "      fill: #1967D2;\n",
              "      height: 32px;\n",
              "      padding: 0 0 0 0;\n",
              "      width: 32px;\n",
              "    }\n",
              "\n",
              "    .colab-df-convert:hover {\n",
              "      background-color: #E2EBFA;\n",
              "      box-shadow: 0px 1px 2px rgba(60, 64, 67, 0.3), 0px 1px 3px 1px rgba(60, 64, 67, 0.15);\n",
              "      fill: #174EA6;\n",
              "    }\n",
              "\n",
              "    [theme=dark] .colab-df-convert {\n",
              "      background-color: #3B4455;\n",
              "      fill: #D2E3FC;\n",
              "    }\n",
              "\n",
              "    [theme=dark] .colab-df-convert:hover {\n",
              "      background-color: #434B5C;\n",
              "      box-shadow: 0px 1px 3px 1px rgba(0, 0, 0, 0.15);\n",
              "      filter: drop-shadow(0px 1px 2px rgba(0, 0, 0, 0.3));\n",
              "      fill: #FFFFFF;\n",
              "    }\n",
              "  </style>\n",
              "\n",
              "      <script>\n",
              "        const buttonEl =\n",
              "          document.querySelector('#df-7fe8a611-3185-49a0-8e86-be2c0d0d44a9 button.colab-df-convert');\n",
              "        buttonEl.style.display =\n",
              "          google.colab.kernel.accessAllowed ? 'block' : 'none';\n",
              "\n",
              "        async function convertToInteractive(key) {\n",
              "          const element = document.querySelector('#df-7fe8a611-3185-49a0-8e86-be2c0d0d44a9');\n",
              "          const dataTable =\n",
              "            await google.colab.kernel.invokeFunction('convertToInteractive',\n",
              "                                                     [key], {});\n",
              "          if (!dataTable) return;\n",
              "\n",
              "          const docLinkHtml = 'Like what you see? Visit the ' +\n",
              "            '<a target=\"_blank\" href=https://colab.research.google.com/notebooks/data_table.ipynb>data table notebook</a>'\n",
              "            + ' to learn more about interactive tables.';\n",
              "          element.innerHTML = '';\n",
              "          dataTable['output_type'] = 'display_data';\n",
              "          await google.colab.output.renderOutput(dataTable, element);\n",
              "          const docLink = document.createElement('div');\n",
              "          docLink.innerHTML = docLinkHtml;\n",
              "          element.appendChild(docLink);\n",
              "        }\n",
              "      </script>\n",
              "    </div>\n",
              "  </div>\n",
              "  "
            ]
          },
          "metadata": {},
          "execution_count": 159
        }
      ]
    },
    {
      "cell_type": "code",
      "source": [
        "def tokenization(text):\n",
        "  text = word_tokenize(text)\n",
        "  return text"
      ],
      "metadata": {
        "id": "q402N73SH5zV"
      },
      "execution_count": null,
      "outputs": []
    },
    {
      "cell_type": "code",
      "source": [
        "stop_words = nltk.corpus.stopwords.words('english') \n",
        "def stopwords(text):\n",
        "  text = [word for word in text if word not in stop_words]\n",
        "  return text"
      ],
      "metadata": {
        "id": "u9D1fTRLICDs"
      },
      "execution_count": null,
      "outputs": []
    },
    {
      "cell_type": "code",
      "source": [
        "df['Tokenized'] = df['Text'].apply(tokenization)\n",
        "df['Stopwords'] = df['Tokenized'].apply(stopwords)"
      ],
      "metadata": {
        "id": "VM-6swAzIDos"
      },
      "execution_count": null,
      "outputs": []
    },
    {
      "cell_type": "code",
      "source": [
        "df.head()"
      ],
      "metadata": {
        "id": "6giF7c-OIHGU",
        "colab": {
          "base_uri": "https://localhost:8080/",
          "height": 250
        },
        "outputId": "463a0ad6-bfe6-4197-c49c-7a169aa8ad58"
      },
      "execution_count": null,
      "outputs": [
        {
          "output_type": "execute_result",
          "data": {
            "text/plain": [
              "   Unnamed: 0                                               Text  Sentiment  \\\n",
              "0        6872  minecraft isnt the best test for rtx try cyber...          2   \n",
              "1        4820  i think crysis  looked pretty horrible with it...          1   \n",
              "2          53  yo is cyberpunk a good buy now ive put off buy...          1   \n",
              "3        9728                     i think you misspelled a leech          3   \n",
              "4       10194      i can tell the difference my frame rate drops          3   \n",
              "\n",
              "                                           Tokenized  \\\n",
              "0  [minecraft, isnt, the, best, test, for, rtx, t...   \n",
              "1  [i, think, crysis, looked, pretty, horrible, w...   \n",
              "2  [yo, is, cyberpunk, a, good, buy, now, ive, pu...   \n",
              "3              [i, think, you, misspelled, a, leech]   \n",
              "4  [i, can, tell, the, difference, my, frame, rat...   \n",
              "\n",
              "                                           Stopwords  \n",
              "0  [minecraft, isnt, best, test, rtx, try, cyberp...  \n",
              "1  [think, crysis, looked, pretty, horrible, cube...  \n",
              "2  [yo, cyberpunk, good, buy, ive, put, buying, s...  \n",
              "3                         [think, misspelled, leech]  \n",
              "4             [tell, difference, frame, rate, drops]  "
            ],
            "text/html": [
              "\n",
              "  <div id=\"df-3e1effae-d221-4808-a349-222cd16ef780\">\n",
              "    <div class=\"colab-df-container\">\n",
              "      <div>\n",
              "<style scoped>\n",
              "    .dataframe tbody tr th:only-of-type {\n",
              "        vertical-align: middle;\n",
              "    }\n",
              "\n",
              "    .dataframe tbody tr th {\n",
              "        vertical-align: top;\n",
              "    }\n",
              "\n",
              "    .dataframe thead th {\n",
              "        text-align: right;\n",
              "    }\n",
              "</style>\n",
              "<table border=\"1\" class=\"dataframe\">\n",
              "  <thead>\n",
              "    <tr style=\"text-align: right;\">\n",
              "      <th></th>\n",
              "      <th>Unnamed: 0</th>\n",
              "      <th>Text</th>\n",
              "      <th>Sentiment</th>\n",
              "      <th>Tokenized</th>\n",
              "      <th>Stopwords</th>\n",
              "    </tr>\n",
              "  </thead>\n",
              "  <tbody>\n",
              "    <tr>\n",
              "      <th>0</th>\n",
              "      <td>6872</td>\n",
              "      <td>minecraft isnt the best test for rtx try cyber...</td>\n",
              "      <td>2</td>\n",
              "      <td>[minecraft, isnt, the, best, test, for, rtx, t...</td>\n",
              "      <td>[minecraft, isnt, best, test, rtx, try, cyberp...</td>\n",
              "    </tr>\n",
              "    <tr>\n",
              "      <th>1</th>\n",
              "      <td>4820</td>\n",
              "      <td>i think crysis  looked pretty horrible with it...</td>\n",
              "      <td>1</td>\n",
              "      <td>[i, think, crysis, looked, pretty, horrible, w...</td>\n",
              "      <td>[think, crysis, looked, pretty, horrible, cube...</td>\n",
              "    </tr>\n",
              "    <tr>\n",
              "      <th>2</th>\n",
              "      <td>53</td>\n",
              "      <td>yo is cyberpunk a good buy now ive put off buy...</td>\n",
              "      <td>1</td>\n",
              "      <td>[yo, is, cyberpunk, a, good, buy, now, ive, pu...</td>\n",
              "      <td>[yo, cyberpunk, good, buy, ive, put, buying, s...</td>\n",
              "    </tr>\n",
              "    <tr>\n",
              "      <th>3</th>\n",
              "      <td>9728</td>\n",
              "      <td>i think you misspelled a leech</td>\n",
              "      <td>3</td>\n",
              "      <td>[i, think, you, misspelled, a, leech]</td>\n",
              "      <td>[think, misspelled, leech]</td>\n",
              "    </tr>\n",
              "    <tr>\n",
              "      <th>4</th>\n",
              "      <td>10194</td>\n",
              "      <td>i can tell the difference my frame rate drops</td>\n",
              "      <td>3</td>\n",
              "      <td>[i, can, tell, the, difference, my, frame, rat...</td>\n",
              "      <td>[tell, difference, frame, rate, drops]</td>\n",
              "    </tr>\n",
              "  </tbody>\n",
              "</table>\n",
              "</div>\n",
              "      <button class=\"colab-df-convert\" onclick=\"convertToInteractive('df-3e1effae-d221-4808-a349-222cd16ef780')\"\n",
              "              title=\"Convert this dataframe to an interactive table.\"\n",
              "              style=\"display:none;\">\n",
              "        \n",
              "  <svg xmlns=\"http://www.w3.org/2000/svg\" height=\"24px\"viewBox=\"0 0 24 24\"\n",
              "       width=\"24px\">\n",
              "    <path d=\"M0 0h24v24H0V0z\" fill=\"none\"/>\n",
              "    <path d=\"M18.56 5.44l.94 2.06.94-2.06 2.06-.94-2.06-.94-.94-2.06-.94 2.06-2.06.94zm-11 1L8.5 8.5l.94-2.06 2.06-.94-2.06-.94L8.5 2.5l-.94 2.06-2.06.94zm10 10l.94 2.06.94-2.06 2.06-.94-2.06-.94-.94-2.06-.94 2.06-2.06.94z\"/><path d=\"M17.41 7.96l-1.37-1.37c-.4-.4-.92-.59-1.43-.59-.52 0-1.04.2-1.43.59L10.3 9.45l-7.72 7.72c-.78.78-.78 2.05 0 2.83L4 21.41c.39.39.9.59 1.41.59.51 0 1.02-.2 1.41-.59l7.78-7.78 2.81-2.81c.8-.78.8-2.07 0-2.86zM5.41 20L4 18.59l7.72-7.72 1.47 1.35L5.41 20z\"/>\n",
              "  </svg>\n",
              "      </button>\n",
              "      \n",
              "  <style>\n",
              "    .colab-df-container {\n",
              "      display:flex;\n",
              "      flex-wrap:wrap;\n",
              "      gap: 12px;\n",
              "    }\n",
              "\n",
              "    .colab-df-convert {\n",
              "      background-color: #E8F0FE;\n",
              "      border: none;\n",
              "      border-radius: 50%;\n",
              "      cursor: pointer;\n",
              "      display: none;\n",
              "      fill: #1967D2;\n",
              "      height: 32px;\n",
              "      padding: 0 0 0 0;\n",
              "      width: 32px;\n",
              "    }\n",
              "\n",
              "    .colab-df-convert:hover {\n",
              "      background-color: #E2EBFA;\n",
              "      box-shadow: 0px 1px 2px rgba(60, 64, 67, 0.3), 0px 1px 3px 1px rgba(60, 64, 67, 0.15);\n",
              "      fill: #174EA6;\n",
              "    }\n",
              "\n",
              "    [theme=dark] .colab-df-convert {\n",
              "      background-color: #3B4455;\n",
              "      fill: #D2E3FC;\n",
              "    }\n",
              "\n",
              "    [theme=dark] .colab-df-convert:hover {\n",
              "      background-color: #434B5C;\n",
              "      box-shadow: 0px 1px 3px 1px rgba(0, 0, 0, 0.15);\n",
              "      filter: drop-shadow(0px 1px 2px rgba(0, 0, 0, 0.3));\n",
              "      fill: #FFFFFF;\n",
              "    }\n",
              "  </style>\n",
              "\n",
              "      <script>\n",
              "        const buttonEl =\n",
              "          document.querySelector('#df-3e1effae-d221-4808-a349-222cd16ef780 button.colab-df-convert');\n",
              "        buttonEl.style.display =\n",
              "          google.colab.kernel.accessAllowed ? 'block' : 'none';\n",
              "\n",
              "        async function convertToInteractive(key) {\n",
              "          const element = document.querySelector('#df-3e1effae-d221-4808-a349-222cd16ef780');\n",
              "          const dataTable =\n",
              "            await google.colab.kernel.invokeFunction('convertToInteractive',\n",
              "                                                     [key], {});\n",
              "          if (!dataTable) return;\n",
              "\n",
              "          const docLinkHtml = 'Like what you see? Visit the ' +\n",
              "            '<a target=\"_blank\" href=https://colab.research.google.com/notebooks/data_table.ipynb>data table notebook</a>'\n",
              "            + ' to learn more about interactive tables.';\n",
              "          element.innerHTML = '';\n",
              "          dataTable['output_type'] = 'display_data';\n",
              "          await google.colab.output.renderOutput(dataTable, element);\n",
              "          const docLink = document.createElement('div');\n",
              "          docLink.innerHTML = docLinkHtml;\n",
              "          element.appendChild(docLink);\n",
              "        }\n",
              "      </script>\n",
              "    </div>\n",
              "  </div>\n",
              "  "
            ]
          },
          "metadata": {},
          "execution_count": 163
        }
      ]
    },
    {
      "cell_type": "code",
      "source": [
        "def joined(text):\n",
        "  text = \" \".join(text)\n",
        "  return text"
      ],
      "metadata": {
        "id": "FFON32lyIOS0"
      },
      "execution_count": null,
      "outputs": []
    },
    {
      "cell_type": "code",
      "source": [
        "df['Stopwords'] = df['Stopwords'].apply(lambda x: joined(x))"
      ],
      "metadata": {
        "id": "cLmu_RxKIaol"
      },
      "execution_count": null,
      "outputs": []
    },
    {
      "cell_type": "code",
      "source": [
        "import spacy"
      ],
      "metadata": {
        "id": "v_l_zDrvI1Xu"
      },
      "execution_count": null,
      "outputs": []
    },
    {
      "cell_type": "code",
      "source": [
        "import en_core_web_lg\n",
        "nlp = en_core_web_lg.load()"
      ],
      "metadata": {
        "id": "e0E2fASYI2xD"
      },
      "execution_count": null,
      "outputs": []
    },
    {
      "cell_type": "code",
      "source": [
        "def get_vec(x):\n",
        "  doc = nlp(x)\n",
        "  vec = doc.vector\n",
        "  return vec"
      ],
      "metadata": {
        "id": "2PrwghXAJhzM"
      },
      "execution_count": null,
      "outputs": []
    },
    {
      "cell_type": "code",
      "source": [
        "df['Vectorizer'] = df['Stopwords'].apply(lambda x: get_vec(x))"
      ],
      "metadata": {
        "id": "-gKcZqjBJptz"
      },
      "execution_count": null,
      "outputs": []
    },
    {
      "cell_type": "code",
      "source": [
        "df[['Text','Vectorizer']]"
      ],
      "metadata": {
        "colab": {
          "base_uri": "https://localhost:8080/",
          "height": 424
        },
        "id": "vpdN52EorZuR",
        "outputId": "9fb6060d-dd63-4196-bce8-51887c1f4219"
      },
      "execution_count": null,
      "outputs": [
        {
          "output_type": "execute_result",
          "data": {
            "text/plain": [
              "                                                   Text  \\\n",
              "0     minecraft isnt the best test for rtx try cyber...   \n",
              "1     i think crysis  looked pretty horrible with it...   \n",
              "2     yo is cyberpunk a good buy now ive put off buy...   \n",
              "3                        i think you misspelled a leech   \n",
              "4         i can tell the difference my frame rate drops   \n",
              "...                                                 ...   \n",
              "2300    look closelier very rarely used adverb for c...   \n",
              "2301  gta  on high graphics is still better than thi...   \n",
              "2302     so you didnt lock the fps on both to like  or    \n",
              "2303  erectilesceptile ok for me its p k you running...   \n",
              "2304  i saw post some time ago and i want to echo it...   \n",
              "\n",
              "                                             Vectorizer  \n",
              "0     [1.0128754, 2.5631902, -2.0663493, -0.6527366,...  \n",
              "1     [-0.5293187, 1.4490958, -1.6445445, -0.5595748...  \n",
              "2     [-1.3259783, 1.1602671, -2.7914624, -0.0866209...  \n",
              "3     [-0.47499, 0.55305666, 0.7446367, -1.7682967, ...  \n",
              "4     [0.35160005, 1.408932, -2.5267873, 1.3930199, ...  \n",
              "...                                                 ...  \n",
              "2300  [-0.37453896, 0.6374959, -0.04322803, -0.27853...  \n",
              "2301  [-0.40409294, 1.0312184, -2.3213499, 0.93779, ...  \n",
              "2302  [-0.551592, 6.20432, -4.2617836, 0.56231755, -...  \n",
              "2303  [-1.3830141, 4.0430503, -0.1763, 0.68028843, -...  \n",
              "2304  [-0.53735673, 1.0832607, -0.93845755, -0.72919...  \n",
              "\n",
              "[2305 rows x 2 columns]"
            ],
            "text/html": [
              "\n",
              "  <div id=\"df-c69728f0-8a67-42b7-93f4-f050a117ecb3\">\n",
              "    <div class=\"colab-df-container\">\n",
              "      <div>\n",
              "<style scoped>\n",
              "    .dataframe tbody tr th:only-of-type {\n",
              "        vertical-align: middle;\n",
              "    }\n",
              "\n",
              "    .dataframe tbody tr th {\n",
              "        vertical-align: top;\n",
              "    }\n",
              "\n",
              "    .dataframe thead th {\n",
              "        text-align: right;\n",
              "    }\n",
              "</style>\n",
              "<table border=\"1\" class=\"dataframe\">\n",
              "  <thead>\n",
              "    <tr style=\"text-align: right;\">\n",
              "      <th></th>\n",
              "      <th>Text</th>\n",
              "      <th>Vectorizer</th>\n",
              "    </tr>\n",
              "  </thead>\n",
              "  <tbody>\n",
              "    <tr>\n",
              "      <th>0</th>\n",
              "      <td>minecraft isnt the best test for rtx try cyber...</td>\n",
              "      <td>[1.0128754, 2.5631902, -2.0663493, -0.6527366,...</td>\n",
              "    </tr>\n",
              "    <tr>\n",
              "      <th>1</th>\n",
              "      <td>i think crysis  looked pretty horrible with it...</td>\n",
              "      <td>[-0.5293187, 1.4490958, -1.6445445, -0.5595748...</td>\n",
              "    </tr>\n",
              "    <tr>\n",
              "      <th>2</th>\n",
              "      <td>yo is cyberpunk a good buy now ive put off buy...</td>\n",
              "      <td>[-1.3259783, 1.1602671, -2.7914624, -0.0866209...</td>\n",
              "    </tr>\n",
              "    <tr>\n",
              "      <th>3</th>\n",
              "      <td>i think you misspelled a leech</td>\n",
              "      <td>[-0.47499, 0.55305666, 0.7446367, -1.7682967, ...</td>\n",
              "    </tr>\n",
              "    <tr>\n",
              "      <th>4</th>\n",
              "      <td>i can tell the difference my frame rate drops</td>\n",
              "      <td>[0.35160005, 1.408932, -2.5267873, 1.3930199, ...</td>\n",
              "    </tr>\n",
              "    <tr>\n",
              "      <th>...</th>\n",
              "      <td>...</td>\n",
              "      <td>...</td>\n",
              "    </tr>\n",
              "    <tr>\n",
              "      <th>2300</th>\n",
              "      <td>look closelier very rarely used adverb for c...</td>\n",
              "      <td>[-0.37453896, 0.6374959, -0.04322803, -0.27853...</td>\n",
              "    </tr>\n",
              "    <tr>\n",
              "      <th>2301</th>\n",
              "      <td>gta  on high graphics is still better than thi...</td>\n",
              "      <td>[-0.40409294, 1.0312184, -2.3213499, 0.93779, ...</td>\n",
              "    </tr>\n",
              "    <tr>\n",
              "      <th>2302</th>\n",
              "      <td>so you didnt lock the fps on both to like  or</td>\n",
              "      <td>[-0.551592, 6.20432, -4.2617836, 0.56231755, -...</td>\n",
              "    </tr>\n",
              "    <tr>\n",
              "      <th>2303</th>\n",
              "      <td>erectilesceptile ok for me its p k you running...</td>\n",
              "      <td>[-1.3830141, 4.0430503, -0.1763, 0.68028843, -...</td>\n",
              "    </tr>\n",
              "    <tr>\n",
              "      <th>2304</th>\n",
              "      <td>i saw post some time ago and i want to echo it...</td>\n",
              "      <td>[-0.53735673, 1.0832607, -0.93845755, -0.72919...</td>\n",
              "    </tr>\n",
              "  </tbody>\n",
              "</table>\n",
              "<p>2305 rows × 2 columns</p>\n",
              "</div>\n",
              "      <button class=\"colab-df-convert\" onclick=\"convertToInteractive('df-c69728f0-8a67-42b7-93f4-f050a117ecb3')\"\n",
              "              title=\"Convert this dataframe to an interactive table.\"\n",
              "              style=\"display:none;\">\n",
              "        \n",
              "  <svg xmlns=\"http://www.w3.org/2000/svg\" height=\"24px\"viewBox=\"0 0 24 24\"\n",
              "       width=\"24px\">\n",
              "    <path d=\"M0 0h24v24H0V0z\" fill=\"none\"/>\n",
              "    <path d=\"M18.56 5.44l.94 2.06.94-2.06 2.06-.94-2.06-.94-.94-2.06-.94 2.06-2.06.94zm-11 1L8.5 8.5l.94-2.06 2.06-.94-2.06-.94L8.5 2.5l-.94 2.06-2.06.94zm10 10l.94 2.06.94-2.06 2.06-.94-2.06-.94-.94-2.06-.94 2.06-2.06.94z\"/><path d=\"M17.41 7.96l-1.37-1.37c-.4-.4-.92-.59-1.43-.59-.52 0-1.04.2-1.43.59L10.3 9.45l-7.72 7.72c-.78.78-.78 2.05 0 2.83L4 21.41c.39.39.9.59 1.41.59.51 0 1.02-.2 1.41-.59l7.78-7.78 2.81-2.81c.8-.78.8-2.07 0-2.86zM5.41 20L4 18.59l7.72-7.72 1.47 1.35L5.41 20z\"/>\n",
              "  </svg>\n",
              "      </button>\n",
              "      \n",
              "  <style>\n",
              "    .colab-df-container {\n",
              "      display:flex;\n",
              "      flex-wrap:wrap;\n",
              "      gap: 12px;\n",
              "    }\n",
              "\n",
              "    .colab-df-convert {\n",
              "      background-color: #E8F0FE;\n",
              "      border: none;\n",
              "      border-radius: 50%;\n",
              "      cursor: pointer;\n",
              "      display: none;\n",
              "      fill: #1967D2;\n",
              "      height: 32px;\n",
              "      padding: 0 0 0 0;\n",
              "      width: 32px;\n",
              "    }\n",
              "\n",
              "    .colab-df-convert:hover {\n",
              "      background-color: #E2EBFA;\n",
              "      box-shadow: 0px 1px 2px rgba(60, 64, 67, 0.3), 0px 1px 3px 1px rgba(60, 64, 67, 0.15);\n",
              "      fill: #174EA6;\n",
              "    }\n",
              "\n",
              "    [theme=dark] .colab-df-convert {\n",
              "      background-color: #3B4455;\n",
              "      fill: #D2E3FC;\n",
              "    }\n",
              "\n",
              "    [theme=dark] .colab-df-convert:hover {\n",
              "      background-color: #434B5C;\n",
              "      box-shadow: 0px 1px 3px 1px rgba(0, 0, 0, 0.15);\n",
              "      filter: drop-shadow(0px 1px 2px rgba(0, 0, 0, 0.3));\n",
              "      fill: #FFFFFF;\n",
              "    }\n",
              "  </style>\n",
              "\n",
              "      <script>\n",
              "        const buttonEl =\n",
              "          document.querySelector('#df-c69728f0-8a67-42b7-93f4-f050a117ecb3 button.colab-df-convert');\n",
              "        buttonEl.style.display =\n",
              "          google.colab.kernel.accessAllowed ? 'block' : 'none';\n",
              "\n",
              "        async function convertToInteractive(key) {\n",
              "          const element = document.querySelector('#df-c69728f0-8a67-42b7-93f4-f050a117ecb3');\n",
              "          const dataTable =\n",
              "            await google.colab.kernel.invokeFunction('convertToInteractive',\n",
              "                                                     [key], {});\n",
              "          if (!dataTable) return;\n",
              "\n",
              "          const docLinkHtml = 'Like what you see? Visit the ' +\n",
              "            '<a target=\"_blank\" href=https://colab.research.google.com/notebooks/data_table.ipynb>data table notebook</a>'\n",
              "            + ' to learn more about interactive tables.';\n",
              "          element.innerHTML = '';\n",
              "          dataTable['output_type'] = 'display_data';\n",
              "          await google.colab.output.renderOutput(dataTable, element);\n",
              "          const docLink = document.createElement('div');\n",
              "          docLink.innerHTML = docLinkHtml;\n",
              "          element.appendChild(docLink);\n",
              "        }\n",
              "      </script>\n",
              "    </div>\n",
              "  </div>\n",
              "  "
            ]
          },
          "metadata": {},
          "execution_count": 170
        }
      ]
    },
    {
      "cell_type": "code",
      "source": [
        "df['Vectorizer'][0].shape"
      ],
      "metadata": {
        "id": "-9Tt_gWg1dCA",
        "colab": {
          "base_uri": "https://localhost:8080/"
        },
        "outputId": "599c3bfe-2614-4115-b4bb-d19ed20eb55a"
      },
      "execution_count": null,
      "outputs": [
        {
          "output_type": "execute_result",
          "data": {
            "text/plain": [
              "(300,)"
            ]
          },
          "metadata": {},
          "execution_count": 171
        }
      ]
    },
    {
      "cell_type": "code",
      "source": [
        "final = pd.DataFrame({'Vector':df['Vectorizer'], 'Sentiment':df['Sentiment']})\n",
        "final.head()"
      ],
      "metadata": {
        "id": "RwadUVyzKKTD",
        "colab": {
          "base_uri": "https://localhost:8080/",
          "height": 206
        },
        "outputId": "722ba6dd-6161-4abb-fa69-6a238d2abb7e"
      },
      "execution_count": null,
      "outputs": [
        {
          "output_type": "execute_result",
          "data": {
            "text/plain": [
              "                                              Vector  Sentiment\n",
              "0  [1.0128754, 2.5631902, -2.0663493, -0.6527366,...          2\n",
              "1  [-0.5293187, 1.4490958, -1.6445445, -0.5595748...          1\n",
              "2  [-1.3259783, 1.1602671, -2.7914624, -0.0866209...          1\n",
              "3  [-0.47499, 0.55305666, 0.7446367, -1.7682967, ...          3\n",
              "4  [0.35160005, 1.408932, -2.5267873, 1.3930199, ...          3"
            ],
            "text/html": [
              "\n",
              "  <div id=\"df-8daa04f7-326a-4b88-8b0c-ac6308e1adfb\">\n",
              "    <div class=\"colab-df-container\">\n",
              "      <div>\n",
              "<style scoped>\n",
              "    .dataframe tbody tr th:only-of-type {\n",
              "        vertical-align: middle;\n",
              "    }\n",
              "\n",
              "    .dataframe tbody tr th {\n",
              "        vertical-align: top;\n",
              "    }\n",
              "\n",
              "    .dataframe thead th {\n",
              "        text-align: right;\n",
              "    }\n",
              "</style>\n",
              "<table border=\"1\" class=\"dataframe\">\n",
              "  <thead>\n",
              "    <tr style=\"text-align: right;\">\n",
              "      <th></th>\n",
              "      <th>Vector</th>\n",
              "      <th>Sentiment</th>\n",
              "    </tr>\n",
              "  </thead>\n",
              "  <tbody>\n",
              "    <tr>\n",
              "      <th>0</th>\n",
              "      <td>[1.0128754, 2.5631902, -2.0663493, -0.6527366,...</td>\n",
              "      <td>2</td>\n",
              "    </tr>\n",
              "    <tr>\n",
              "      <th>1</th>\n",
              "      <td>[-0.5293187, 1.4490958, -1.6445445, -0.5595748...</td>\n",
              "      <td>1</td>\n",
              "    </tr>\n",
              "    <tr>\n",
              "      <th>2</th>\n",
              "      <td>[-1.3259783, 1.1602671, -2.7914624, -0.0866209...</td>\n",
              "      <td>1</td>\n",
              "    </tr>\n",
              "    <tr>\n",
              "      <th>3</th>\n",
              "      <td>[-0.47499, 0.55305666, 0.7446367, -1.7682967, ...</td>\n",
              "      <td>3</td>\n",
              "    </tr>\n",
              "    <tr>\n",
              "      <th>4</th>\n",
              "      <td>[0.35160005, 1.408932, -2.5267873, 1.3930199, ...</td>\n",
              "      <td>3</td>\n",
              "    </tr>\n",
              "  </tbody>\n",
              "</table>\n",
              "</div>\n",
              "      <button class=\"colab-df-convert\" onclick=\"convertToInteractive('df-8daa04f7-326a-4b88-8b0c-ac6308e1adfb')\"\n",
              "              title=\"Convert this dataframe to an interactive table.\"\n",
              "              style=\"display:none;\">\n",
              "        \n",
              "  <svg xmlns=\"http://www.w3.org/2000/svg\" height=\"24px\"viewBox=\"0 0 24 24\"\n",
              "       width=\"24px\">\n",
              "    <path d=\"M0 0h24v24H0V0z\" fill=\"none\"/>\n",
              "    <path d=\"M18.56 5.44l.94 2.06.94-2.06 2.06-.94-2.06-.94-.94-2.06-.94 2.06-2.06.94zm-11 1L8.5 8.5l.94-2.06 2.06-.94-2.06-.94L8.5 2.5l-.94 2.06-2.06.94zm10 10l.94 2.06.94-2.06 2.06-.94-2.06-.94-.94-2.06-.94 2.06-2.06.94z\"/><path d=\"M17.41 7.96l-1.37-1.37c-.4-.4-.92-.59-1.43-.59-.52 0-1.04.2-1.43.59L10.3 9.45l-7.72 7.72c-.78.78-.78 2.05 0 2.83L4 21.41c.39.39.9.59 1.41.59.51 0 1.02-.2 1.41-.59l7.78-7.78 2.81-2.81c.8-.78.8-2.07 0-2.86zM5.41 20L4 18.59l7.72-7.72 1.47 1.35L5.41 20z\"/>\n",
              "  </svg>\n",
              "      </button>\n",
              "      \n",
              "  <style>\n",
              "    .colab-df-container {\n",
              "      display:flex;\n",
              "      flex-wrap:wrap;\n",
              "      gap: 12px;\n",
              "    }\n",
              "\n",
              "    .colab-df-convert {\n",
              "      background-color: #E8F0FE;\n",
              "      border: none;\n",
              "      border-radius: 50%;\n",
              "      cursor: pointer;\n",
              "      display: none;\n",
              "      fill: #1967D2;\n",
              "      height: 32px;\n",
              "      padding: 0 0 0 0;\n",
              "      width: 32px;\n",
              "    }\n",
              "\n",
              "    .colab-df-convert:hover {\n",
              "      background-color: #E2EBFA;\n",
              "      box-shadow: 0px 1px 2px rgba(60, 64, 67, 0.3), 0px 1px 3px 1px rgba(60, 64, 67, 0.15);\n",
              "      fill: #174EA6;\n",
              "    }\n",
              "\n",
              "    [theme=dark] .colab-df-convert {\n",
              "      background-color: #3B4455;\n",
              "      fill: #D2E3FC;\n",
              "    }\n",
              "\n",
              "    [theme=dark] .colab-df-convert:hover {\n",
              "      background-color: #434B5C;\n",
              "      box-shadow: 0px 1px 3px 1px rgba(0, 0, 0, 0.15);\n",
              "      filter: drop-shadow(0px 1px 2px rgba(0, 0, 0, 0.3));\n",
              "      fill: #FFFFFF;\n",
              "    }\n",
              "  </style>\n",
              "\n",
              "      <script>\n",
              "        const buttonEl =\n",
              "          document.querySelector('#df-8daa04f7-326a-4b88-8b0c-ac6308e1adfb button.colab-df-convert');\n",
              "        buttonEl.style.display =\n",
              "          google.colab.kernel.accessAllowed ? 'block' : 'none';\n",
              "\n",
              "        async function convertToInteractive(key) {\n",
              "          const element = document.querySelector('#df-8daa04f7-326a-4b88-8b0c-ac6308e1adfb');\n",
              "          const dataTable =\n",
              "            await google.colab.kernel.invokeFunction('convertToInteractive',\n",
              "                                                     [key], {});\n",
              "          if (!dataTable) return;\n",
              "\n",
              "          const docLinkHtml = 'Like what you see? Visit the ' +\n",
              "            '<a target=\"_blank\" href=https://colab.research.google.com/notebooks/data_table.ipynb>data table notebook</a>'\n",
              "            + ' to learn more about interactive tables.';\n",
              "          element.innerHTML = '';\n",
              "          dataTable['output_type'] = 'display_data';\n",
              "          await google.colab.output.renderOutput(dataTable, element);\n",
              "          const docLink = document.createElement('div');\n",
              "          docLink.innerHTML = docLinkHtml;\n",
              "          element.appendChild(docLink);\n",
              "        }\n",
              "      </script>\n",
              "    </div>\n",
              "  </div>\n",
              "  "
            ]
          },
          "metadata": {},
          "execution_count": 172
        }
      ]
    },
    {
      "cell_type": "code",
      "source": [
        "X = final['Vector'].to_numpy()\n",
        "X = X.reshape(-1, 1)"
      ],
      "metadata": {
        "id": "l1IZCAMhKQEr"
      },
      "execution_count": null,
      "outputs": []
    },
    {
      "cell_type": "code",
      "source": [
        "import numpy as np\n",
        "X = np.concatenate(np.concatenate(X, axis = 0), axis = 0).reshape(-1, 300)\n",
        "y = final['Sentiment']"
      ],
      "metadata": {
        "id": "DXI4OeN6KU21"
      },
      "execution_count": null,
      "outputs": []
    },
    {
      "cell_type": "code",
      "source": [
        "X[0].shape"
      ],
      "metadata": {
        "id": "X8GF0VvX3MMn",
        "colab": {
          "base_uri": "https://localhost:8080/"
        },
        "outputId": "a1839bde-47e1-4e20-ef4e-659964b2eeb7"
      },
      "execution_count": null,
      "outputs": [
        {
          "output_type": "execute_result",
          "data": {
            "text/plain": [
              "(300,)"
            ]
          },
          "metadata": {},
          "execution_count": 175
        }
      ]
    },
    {
      "cell_type": "code",
      "source": [
        "X"
      ],
      "metadata": {
        "id": "L5TbcBA_Kxar",
        "colab": {
          "base_uri": "https://localhost:8080/"
        },
        "outputId": "00bbc498-841f-4978-f75e-8fdee2e4ca1b"
      },
      "execution_count": null,
      "outputs": [
        {
          "output_type": "execute_result",
          "data": {
            "text/plain": [
              "array([[ 1.0128754 ,  2.5631902 , -2.0663493 , ..., -1.4824936 ,\n",
              "        -2.1296308 ,  2.1944482 ],\n",
              "       [-0.5293187 ,  1.4490958 , -1.6445445 , ..., -0.76085824,\n",
              "        -2.5973668 ,  0.19145083],\n",
              "       [-1.3259783 ,  1.1602671 , -2.7914624 , ..., -1.4699429 ,\n",
              "        -2.8251927 ,  0.04094703],\n",
              "       ...,\n",
              "       [-0.551592  ,  6.20432   , -4.2617836 , ..., -0.05044002,\n",
              "        -2.1536202 ,  1.8204882 ],\n",
              "       [-1.3830141 ,  4.0430503 , -0.1763    , ..., -0.36781427,\n",
              "        -1.8432485 ,  1.4339756 ],\n",
              "       [-0.53735673,  1.0832607 , -0.93845755, ..., -0.40644264,\n",
              "        -2.7461112 ,  0.59595066]], dtype=float32)"
            ]
          },
          "metadata": {},
          "execution_count": 176
        }
      ]
    },
    {
      "cell_type": "markdown",
      "source": [
        "# **Model Klasifikasi**"
      ],
      "metadata": {
        "id": "atUvzPJ2rPJX"
      }
    },
    {
      "cell_type": "code",
      "source": [
        "X_train, X_test, y_train, y_test = train_test_split(X, y, train_size=0.8, test_size=0.2, random_state=6)"
      ],
      "metadata": {
        "id": "XiSEuI7p7TbY"
      },
      "execution_count": null,
      "outputs": []
    },
    {
      "cell_type": "code",
      "source": [
        "model = SVC(kernel = 'rbf', gamma = 1, C = 1)\n",
        "model.fit(X_train, y_train) "
      ],
      "metadata": {
        "id": "D4C1xmIjcLiU",
        "colab": {
          "base_uri": "https://localhost:8080/"
        },
        "outputId": "502cf314-8894-45ed-aedb-74b71c6cf774"
      },
      "execution_count": null,
      "outputs": [
        {
          "output_type": "execute_result",
          "data": {
            "text/plain": [
              "SVC(C=1, gamma=1)"
            ]
          },
          "metadata": {},
          "execution_count": 203
        }
      ]
    },
    {
      "cell_type": "code",
      "source": [
        "y_pred = model.predict(X_test)"
      ],
      "metadata": {
        "id": "ztPk134y8uBo"
      },
      "execution_count": null,
      "outputs": []
    },
    {
      "cell_type": "code",
      "source": [
        "y_pred"
      ],
      "metadata": {
        "id": "K2Pjb5NY89B3",
        "colab": {
          "base_uri": "https://localhost:8080/"
        },
        "outputId": "49af72b3-508e-4634-8983-5171df2c2abc"
      },
      "execution_count": null,
      "outputs": [
        {
          "output_type": "execute_result",
          "data": {
            "text/plain": [
              "array([3, 1, 3, 1, 3, 2, 1, 3, 1, 3, 3, 1, 1, 1, 2, 2, 2, 3, 3, 3, 3, 2,\n",
              "       2, 2, 3, 2, 3, 2, 2, 2, 3, 1, 3, 2, 3, 1, 1, 2, 1, 1, 2, 3, 1, 2,\n",
              "       1, 1, 2, 2, 3, 2, 1, 2, 3, 2, 2, 3, 3, 1, 3, 2, 1, 2, 3, 3, 3, 1,\n",
              "       3, 2, 3, 2, 2, 1, 3, 1, 1, 2, 1, 3, 1, 3, 1, 1, 1, 1, 3, 1, 1, 2,\n",
              "       1, 2, 3, 3, 1, 2, 3, 2, 2, 3, 3, 1, 2, 3, 3, 3, 3, 1, 1, 3, 2, 3,\n",
              "       1, 3, 2, 1, 1, 3, 3, 3, 1, 1, 2, 3, 3, 2, 2, 2, 2, 3, 1, 3, 3, 3,\n",
              "       2, 3, 2, 2, 2, 1, 3, 1, 3, 1, 1, 3, 1, 1, 1, 2, 2, 1, 1, 1, 1, 3,\n",
              "       3, 2, 3, 3, 3, 3, 1, 3, 3, 3, 2, 3, 2, 3, 3, 2, 1, 2, 2, 3, 3, 1,\n",
              "       3, 3, 3, 3, 3, 2, 2, 3, 2, 1, 3, 3, 3, 1, 3, 1, 2, 3, 1, 3, 3, 1,\n",
              "       3, 1, 2, 3, 3, 1, 3, 3, 3, 3, 3, 2, 2, 3, 3, 2, 2, 1, 3, 3, 2, 3,\n",
              "       2, 1, 3, 1, 3, 1, 2, 3, 1, 3, 3, 2, 3, 2, 1, 2, 1, 2, 2, 1, 1, 3,\n",
              "       3, 3, 3, 2, 2, 3, 3, 3, 3, 3, 1, 2, 3, 1, 2, 1, 3, 1, 3, 3, 1, 3,\n",
              "       3, 1, 2, 2, 3, 3, 2, 3, 3, 3, 2, 2, 2, 1, 1, 1, 3, 2, 3, 3, 2, 3,\n",
              "       1, 1, 3, 2, 2, 3, 1, 3, 1, 3, 1, 1, 1, 3, 1, 1, 2, 3, 3, 1, 1, 3,\n",
              "       1, 3, 3, 1, 1, 2, 2, 3, 2, 1, 1, 1, 3, 3, 2, 3, 2, 1, 3, 1, 2, 3,\n",
              "       3, 2, 3, 2, 2, 1, 1, 3, 3, 3, 3, 2, 3, 3, 2, 1, 1, 3, 1, 1, 3, 2,\n",
              "       3, 1, 3, 1, 3, 1, 3, 2, 3, 3, 1, 1, 1, 3, 2, 1, 3, 2, 1, 2, 3, 3,\n",
              "       2, 2, 2, 1, 3, 1, 1, 3, 1, 3, 3, 3, 2, 1, 3, 2, 3, 3, 1, 2, 2, 1,\n",
              "       3, 3, 3, 1, 1, 2, 3, 2, 1, 2, 3, 1, 2, 3, 3, 1, 2, 1, 3, 2, 1, 2,\n",
              "       1, 2, 1, 3, 1, 2, 2, 3, 1, 2, 3, 2, 2, 2, 2, 3, 1, 1, 1, 3, 3, 2,\n",
              "       2, 3, 3, 2, 1, 2, 1, 2, 2, 2, 1, 3, 3, 3, 3, 3, 3, 1, 1, 1, 2])"
            ]
          },
          "metadata": {},
          "execution_count": 200
        }
      ]
    },
    {
      "cell_type": "code",
      "source": [
        "cek = list(y_pred)\n",
        "print(cek.count(1))\n",
        "print(cek.count(2))\n",
        "print(cek.count(3))"
      ],
      "metadata": {
        "colab": {
          "base_uri": "https://localhost:8080/"
        },
        "id": "fXClJJzF6lJZ",
        "outputId": "8ff2e585-54b6-4807-edab-bcbcd5c8e6f1"
      },
      "execution_count": null,
      "outputs": [
        {
          "output_type": "stream",
          "name": "stdout",
          "text": [
            "437\n",
            "1\n",
            "23\n"
          ]
        }
      ]
    },
    {
      "cell_type": "code",
      "source": [
        "data = data = {\n",
        "  \"Text\": ['it probably took a big effort to make this  not by you by your pc rip your pc','i cant even get  fps normally without shaders lol','minecraft has its own feeling realistic graphic looks good but it doesnt give us feeling of minecraft that blocky game','whats rtx','im watching this video in p because my computer cannot stand even this video lmao iwtd','everyone just had epic pc and im just sitting here with my old laptop and still using core i without graphics card c','crysis is so bad it hasnt a walk animation','that was so fuckin good that i just start sleeping so relax','nice but nothing against ray tracing','what is your monitor man']\n",
        "}\n",
        "new_df = pd.DataFrame(data)"
      ],
      "metadata": {
        "id": "dfWe-MuKcWzq"
      },
      "execution_count": null,
      "outputs": []
    },
    {
      "cell_type": "code",
      "source": [
        "new_df['Text'] = new_df['Text'].astype(str)"
      ],
      "metadata": {
        "id": "ikl0nHDMdKlT"
      },
      "execution_count": null,
      "outputs": []
    },
    {
      "cell_type": "code",
      "source": [
        "new_df['Text'] = new_df['Text'].str.lower()\n",
        "new_df['Text'] = new_df['Text'].apply(remove_punct)\n",
        "new_df['Text'] = new_df['Text'].apply(remove_non_ascii)\n",
        "new_df['Text'] = new_df['Text'].str.replace('â€™', '\\'')\n",
        "new_df['Text'] = new_df['Text'].apply(remove_emojis)"
      ],
      "metadata": {
        "id": "IG3U50lDeet6"
      },
      "execution_count": null,
      "outputs": []
    },
    {
      "cell_type": "code",
      "source": [
        "new_df['Tokenized'] = new_df['Text'].apply(tokenization)\n",
        "new_df['Stopwords'] = new_df['Tokenized'].apply(stopwords)\n",
        "new_df['Stopwords'] = new_df['Stopwords'].apply(joined)\n",
        "new_df['Vector'] = new_df['Stopwords'].apply(get_vec)"
      ],
      "metadata": {
        "id": "dJ3AorDZc1MC"
      },
      "execution_count": null,
      "outputs": []
    },
    {
      "cell_type": "code",
      "source": [
        "test = new_df['Vector'].to_numpy()\n",
        "test = test.reshape(-1, 1)"
      ],
      "metadata": {
        "id": "H0N1S3RFdPaq"
      },
      "execution_count": null,
      "outputs": []
    },
    {
      "cell_type": "code",
      "source": [
        "test = np.concatenate(np.concatenate(test, axis = 0), axis = 0).reshape(-1, 300)"
      ],
      "metadata": {
        "id": "U7peGu3TdZD6"
      },
      "execution_count": null,
      "outputs": []
    },
    {
      "cell_type": "code",
      "source": [
        "pred = model.predict(test) "
      ],
      "metadata": {
        "id": "snBQeYp5drML"
      },
      "execution_count": null,
      "outputs": []
    },
    {
      "cell_type": "code",
      "source": [
        "print(pred)"
      ],
      "metadata": {
        "id": "mKC2iqvOduOq",
        "colab": {
          "base_uri": "https://localhost:8080/"
        },
        "outputId": "b2c23ba8-60a4-4f7d-c5c0-0e2f979d7869"
      },
      "execution_count": null,
      "outputs": [
        {
          "output_type": "stream",
          "name": "stdout",
          "text": [
            "[3 1 1 3 3 3 2 1 1 1]\n"
          ]
        }
      ]
    },
    {
      "cell_type": "markdown",
      "source": [
        "# **Evaluasi dengan Cross Validation**"
      ],
      "metadata": {
        "id": "xPuCJN5LrU1H"
      }
    },
    {
      "cell_type": "code",
      "source": [
        "# Variables for average classification report\n",
        "originalclass = []\n",
        "predictedclass = []\n",
        "\n",
        "#Make our customer score\n",
        "def classification_report_with_accuracy_score(y_true, y_pred):\n",
        "    originalclass.extend(y_true)\n",
        "    predictedclass.extend(y_pred)\n",
        "    return accuracy_score(y_true, y_pred) # return accuracy score\n",
        "\n",
        "# Nested CV with parameter optimization\n",
        "nested_score = cross_val_score(SVC(kernel = 'rbf', gamma = 1, C = 1), X=X, y=y, cv=10, scoring=make_scorer(classification_report_with_accuracy_score))\n",
        "\n",
        "# Average values in classification report for all folds in a K-fold Cross-validation  \n",
        "print(classification_report(originalclass, predictedclass)) "
      ],
      "metadata": {
        "id": "2HfWK5_zKi8T",
        "colab": {
          "base_uri": "https://localhost:8080/"
        },
        "outputId": "7f77300f-cd1c-43bc-aa72-007b91226975"
      },
      "execution_count": null,
      "outputs": [
        {
          "output_type": "stream",
          "name": "stdout",
          "text": [
            "              precision    recall  f1-score   support\n",
            "\n",
            "           1       0.36      1.00      0.53       782\n",
            "           2       0.67      0.01      0.01       754\n",
            "           3       0.95      0.17      0.29       769\n",
            "\n",
            "    accuracy                           0.40      2305\n",
            "   macro avg       0.66      0.39      0.28      2305\n",
            "weighted avg       0.66      0.40      0.28      2305\n",
            "\n"
          ]
        }
      ]
    },
    {
      "cell_type": "code",
      "source": [
        "# Variables for average classification report\n",
        "originalclass = []\n",
        "predictedclass = []\n",
        "\n",
        "#Make our customer score\n",
        "def classification_report_with_accuracy_score(y_true, y_pred):\n",
        "    originalclass.extend(y_true)\n",
        "    predictedclass.extend(y_pred)\n",
        "    return accuracy_score(y_true, y_pred) # return accuracy score\n",
        "\n",
        "# Nested CV with parameter optimization\n",
        "nested_score = cross_val_score(SVC(kernel = 'sigmoid'), X=X, y=y, cv=10, scoring=make_scorer(classification_report_with_accuracy_score))\n",
        "\n",
        "# Average values in classification report for all folds in a K-fold Cross-validation  \n",
        "print(classification_report(originalclass, predictedclass)) "
      ],
      "metadata": {
        "id": "Z451kLVgkfP_",
        "colab": {
          "base_uri": "https://localhost:8080/"
        },
        "outputId": "939fa2c0-f6f3-490b-a275-0a1cd14c68ac"
      },
      "execution_count": null,
      "outputs": [
        {
          "output_type": "stream",
          "name": "stdout",
          "text": [
            "              precision    recall  f1-score   support\n",
            "\n",
            "           1       0.58      0.54      0.56       782\n",
            "           2       0.51      0.44      0.47       754\n",
            "           3       0.47      0.57      0.51       769\n",
            "\n",
            "    accuracy                           0.51      2305\n",
            "   macro avg       0.52      0.51      0.51      2305\n",
            "weighted avg       0.52      0.51      0.51      2305\n",
            "\n"
          ]
        }
      ]
    },
    {
      "cell_type": "code",
      "source": [
        "# Variables for average classification report\n",
        "originalclass = []\n",
        "predictedclass = []\n",
        "\n",
        "#Make our customer score\n",
        "def classification_report_with_accuracy_score(y_true, y_pred):\n",
        "    originalclass.extend(y_true)\n",
        "    predictedclass.extend(y_pred)\n",
        "    return accuracy_score(y_true, y_pred) # return accuracy score\n",
        "\n",
        "# Nested CV with parameter optimization\n",
        "nested_score = cross_val_score(SVC(kernel = 'poly'), X=X, y=y, cv=10, scoring=make_scorer(classification_report_with_accuracy_score))\n",
        "\n",
        "# Average values in classification report for all folds in a K-fold Cross-validation  \n",
        "print(classification_report(originalclass, predictedclass)) "
      ],
      "metadata": {
        "id": "uvtoE-QdkfWG",
        "colab": {
          "base_uri": "https://localhost:8080/"
        },
        "outputId": "f826292e-5a45-429f-9318-f459f80e39a7"
      },
      "execution_count": null,
      "outputs": [
        {
          "output_type": "stream",
          "name": "stdout",
          "text": [
            "              precision    recall  f1-score   support\n",
            "\n",
            "           1       0.67      0.59      0.63       782\n",
            "           2       0.59      0.53      0.56       754\n",
            "           3       0.61      0.74      0.67       769\n",
            "\n",
            "    accuracy                           0.62      2305\n",
            "   macro avg       0.62      0.62      0.62      2305\n",
            "weighted avg       0.62      0.62      0.62      2305\n",
            "\n"
          ]
        }
      ]
    },
    {
      "cell_type": "code",
      "source": [
        "# Variables for average classification report\n",
        "originalclass = []\n",
        "predictedclass = []\n",
        "\n",
        "#Make our customer score\n",
        "def classification_report_with_accuracy_score(y_true, y_pred):\n",
        "    originalclass.extend(y_true)\n",
        "    predictedclass.extend(y_pred)\n",
        "    return accuracy_score(y_true, y_pred) # return accuracy score\n",
        "\n",
        "# Nested CV with parameter optimization\n",
        "nested_score = cross_val_score(SVC(kernel = 'linear'), X=X, y=y, cv=10, scoring=make_scorer(classification_report_with_accuracy_score))\n",
        "\n",
        "# Average values in classification report for all folds in a K-fold Cross-validation  \n",
        "print(classification_report(originalclass, predictedclass)) "
      ],
      "metadata": {
        "id": "BZaxR_nRkfZO",
        "colab": {
          "base_uri": "https://localhost:8080/"
        },
        "outputId": "7367f20d-070f-4851-ea71-be862a24aa83"
      },
      "execution_count": null,
      "outputs": [
        {
          "output_type": "stream",
          "name": "stdout",
          "text": [
            "              precision    recall  f1-score   support\n",
            "\n",
            "           1       0.61      0.67      0.64       782\n",
            "           2       0.59      0.59      0.59       754\n",
            "           3       0.71      0.63      0.67       769\n",
            "\n",
            "    accuracy                           0.63      2305\n",
            "   macro avg       0.64      0.63      0.63      2305\n",
            "weighted avg       0.64      0.63      0.63      2305\n",
            "\n"
          ]
        }
      ]
    }
  ]
}